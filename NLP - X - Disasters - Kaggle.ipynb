{
 "cells": [
  {
   "cell_type": "markdown",
   "id": "8ea33c0b",
   "metadata": {},
   "source": [
    "# Natural Language Processing with Disaster Tweets - Kaggle Competition"
   ]
  },
  {
   "cell_type": "markdown",
   "id": "286bef1a",
   "metadata": {},
   "source": [
    "Click <a href=\"https://www.kaggle.com/competitions/nlp-getting-started/overview\">here</a> for an overview of the NLP disaster tweets Kaggle's competition.\n",
    "\n",
    "<b> Goal: </b> To predict which Tweets are about real disasters and which ones are not.\n",
    "\n",
    "Data are taken from Kaggle: \n",
    "click <a href=\"https://www.kaggle.com/competitions/nlp-getting-started/data\">here</a> for an explanation of the datasets."
   ]
  },
  {
   "cell_type": "markdown",
   "id": "23c3b0ff",
   "metadata": {},
   "source": [
    "## Table of Contents:\n",
    "* [<p>&#128229; Load the Data</p>](#first-bullet) \n",
    "* [<p>&#128202; Exploratory Data Analysis and Data Visualisation</p>](#second-bullet)\n",
    "* [<p>&#128295; Data Preprocessing: Punctuation, Number, Stopwords, http-adresses removal, Lemmatization, Vectorization</p>](#third-bullet)   \n",
    "* [<p>&#129302; ML - Multinomial Naive Bayes Classifier</p>](#fourth-bullet)\n",
    "* [<p>&#129497; Reformat the test data and make predictions with Multinomial NB</p>](#fifth-bullet)\n",
    "* [<p>&#129302; ML - Logistic Regression Classifier</p>](#sixth-bullet)\n",
    "* [<p>&#129497; Reformat the test data and make predictions with Logistic Regression</p>](#seventh-bullet)"
   ]
  },
  {
   "cell_type": "markdown",
   "id": "76d7ff2d",
   "metadata": {},
   "source": [
    "<h2 style='color:Red;'><p>&#128229; Load the Data</p> <a class=\"anchor\" id=\"first-bullet\"></a>"
   ]
  },
  {
   "cell_type": "code",
   "execution_count": 1,
   "id": "d6a6cec1",
   "metadata": {},
   "outputs": [],
   "source": [
    "# Import pandas and numpy\n",
    "\n",
    "import pandas as pd\n",
    "import numpy as np"
   ]
  },
  {
   "cell_type": "code",
   "execution_count": 2,
   "id": "3c75488c",
   "metadata": {},
   "outputs": [
    {
     "data": {
      "text/html": [
       "<div>\n",
       "<style scoped>\n",
       "    .dataframe tbody tr th:only-of-type {\n",
       "        vertical-align: middle;\n",
       "    }\n",
       "\n",
       "    .dataframe tbody tr th {\n",
       "        vertical-align: top;\n",
       "    }\n",
       "\n",
       "    .dataframe thead th {\n",
       "        text-align: right;\n",
       "    }\n",
       "</style>\n",
       "<table border=\"1\" class=\"dataframe\">\n",
       "  <thead>\n",
       "    <tr style=\"text-align: right;\">\n",
       "      <th></th>\n",
       "      <th>id</th>\n",
       "      <th>keyword</th>\n",
       "      <th>location</th>\n",
       "      <th>text</th>\n",
       "      <th>target</th>\n",
       "    </tr>\n",
       "  </thead>\n",
       "  <tbody>\n",
       "    <tr>\n",
       "      <th>0</th>\n",
       "      <td>1</td>\n",
       "      <td>NaN</td>\n",
       "      <td>NaN</td>\n",
       "      <td>Our Deeds are the Reason of this #earthquake M...</td>\n",
       "      <td>1</td>\n",
       "    </tr>\n",
       "    <tr>\n",
       "      <th>1</th>\n",
       "      <td>4</td>\n",
       "      <td>NaN</td>\n",
       "      <td>NaN</td>\n",
       "      <td>Forest fire near La Ronge Sask. Canada</td>\n",
       "      <td>1</td>\n",
       "    </tr>\n",
       "    <tr>\n",
       "      <th>2</th>\n",
       "      <td>5</td>\n",
       "      <td>NaN</td>\n",
       "      <td>NaN</td>\n",
       "      <td>All residents asked to 'shelter in place' are ...</td>\n",
       "      <td>1</td>\n",
       "    </tr>\n",
       "    <tr>\n",
       "      <th>3</th>\n",
       "      <td>6</td>\n",
       "      <td>NaN</td>\n",
       "      <td>NaN</td>\n",
       "      <td>13,000 people receive #wildfires evacuation or...</td>\n",
       "      <td>1</td>\n",
       "    </tr>\n",
       "    <tr>\n",
       "      <th>4</th>\n",
       "      <td>7</td>\n",
       "      <td>NaN</td>\n",
       "      <td>NaN</td>\n",
       "      <td>Just got sent this photo from Ruby #Alaska as ...</td>\n",
       "      <td>1</td>\n",
       "    </tr>\n",
       "  </tbody>\n",
       "</table>\n",
       "</div>"
      ],
      "text/plain": [
       "   id keyword location                                               text  \\\n",
       "0   1     NaN      NaN  Our Deeds are the Reason of this #earthquake M...   \n",
       "1   4     NaN      NaN             Forest fire near La Ronge Sask. Canada   \n",
       "2   5     NaN      NaN  All residents asked to 'shelter in place' are ...   \n",
       "3   6     NaN      NaN  13,000 people receive #wildfires evacuation or...   \n",
       "4   7     NaN      NaN  Just got sent this photo from Ruby #Alaska as ...   \n",
       "\n",
       "   target  \n",
       "0       1  \n",
       "1       1  \n",
       "2       1  \n",
       "3       1  \n",
       "4       1  "
      ]
     },
     "execution_count": 2,
     "metadata": {},
     "output_type": "execute_result"
    }
   ],
   "source": [
    "# Load the data\n",
    "\n",
    "train = pd.read_csv('train.csv')\n",
    "train.head()"
   ]
  },
  {
   "cell_type": "code",
   "execution_count": 3,
   "id": "40b373b4",
   "metadata": {},
   "outputs": [],
   "source": [
    "# Drop out the id column of train\n",
    "\n",
    "train = train.drop('id', axis=1)"
   ]
  },
  {
   "cell_type": "markdown",
   "id": "5ba04385",
   "metadata": {},
   "source": [
    "<h2 style='color:Red;'><p>&#128202; Exploratory Data Analysis and Data Visualisation</p> <a class=\"anchor\" id=\"second-bullet\"></a>"
   ]
  },
  {
   "cell_type": "code",
   "execution_count": 4,
   "id": "ba9fb818",
   "metadata": {},
   "outputs": [
    {
     "name": "stdout",
     "output_type": "stream",
     "text": [
      "<class 'pandas.core.frame.DataFrame'>\n",
      "RangeIndex: 7613 entries, 0 to 7612\n",
      "Data columns (total 4 columns):\n",
      " #   Column    Non-Null Count  Dtype \n",
      "---  ------    --------------  ----- \n",
      " 0   keyword   7552 non-null   object\n",
      " 1   location  5080 non-null   object\n",
      " 2   text      7613 non-null   object\n",
      " 3   target    7613 non-null   int64 \n",
      "dtypes: int64(1), object(3)\n",
      "memory usage: 238.0+ KB\n"
     ]
    }
   ],
   "source": [
    "# Info of the dataframe\n",
    "\n",
    "train.info()"
   ]
  },
  {
   "cell_type": "code",
   "execution_count": 5,
   "id": "7b37a58c",
   "metadata": {},
   "outputs": [
    {
     "data": {
      "text/plain": [
       "keyword       61\n",
       "location    2533\n",
       "text           0\n",
       "target         0\n",
       "dtype: int64"
      ]
     },
     "execution_count": 5,
     "metadata": {},
     "output_type": "execute_result"
    }
   ],
   "source": [
    "# Missing values of train\n",
    "\n",
    "train.isnull().sum()"
   ]
  },
  {
   "cell_type": "code",
   "execution_count": 6,
   "id": "0bf198dd",
   "metadata": {},
   "outputs": [
    {
     "data": {
      "text/html": [
       "<div>\n",
       "<style scoped>\n",
       "    .dataframe tbody tr th:only-of-type {\n",
       "        vertical-align: middle;\n",
       "    }\n",
       "\n",
       "    .dataframe tbody tr th {\n",
       "        vertical-align: top;\n",
       "    }\n",
       "\n",
       "    .dataframe thead tr th {\n",
       "        text-align: left;\n",
       "    }\n",
       "\n",
       "    .dataframe thead tr:last-of-type th {\n",
       "        text-align: right;\n",
       "    }\n",
       "</style>\n",
       "<table border=\"1\" class=\"dataframe\">\n",
       "  <thead>\n",
       "    <tr>\n",
       "      <th></th>\n",
       "      <th colspan=\"4\" halign=\"left\">keyword</th>\n",
       "      <th colspan=\"4\" halign=\"left\">location</th>\n",
       "      <th colspan=\"4\" halign=\"left\">text</th>\n",
       "    </tr>\n",
       "    <tr>\n",
       "      <th></th>\n",
       "      <th>count</th>\n",
       "      <th>unique</th>\n",
       "      <th>top</th>\n",
       "      <th>freq</th>\n",
       "      <th>count</th>\n",
       "      <th>unique</th>\n",
       "      <th>top</th>\n",
       "      <th>freq</th>\n",
       "      <th>count</th>\n",
       "      <th>unique</th>\n",
       "      <th>top</th>\n",
       "      <th>freq</th>\n",
       "    </tr>\n",
       "    <tr>\n",
       "      <th>target</th>\n",
       "      <th></th>\n",
       "      <th></th>\n",
       "      <th></th>\n",
       "      <th></th>\n",
       "      <th></th>\n",
       "      <th></th>\n",
       "      <th></th>\n",
       "      <th></th>\n",
       "      <th></th>\n",
       "      <th></th>\n",
       "      <th></th>\n",
       "      <th></th>\n",
       "    </tr>\n",
       "  </thead>\n",
       "  <tbody>\n",
       "    <tr>\n",
       "      <th>0</th>\n",
       "      <td>4323</td>\n",
       "      <td>218</td>\n",
       "      <td>body%20bags</td>\n",
       "      <td>40</td>\n",
       "      <td>2884</td>\n",
       "      <td>2142</td>\n",
       "      <td>New York</td>\n",
       "      <td>55</td>\n",
       "      <td>4342</td>\n",
       "      <td>4315</td>\n",
       "      <td>The Prophet (peace be upon him) said 'Save you...</td>\n",
       "      <td>4</td>\n",
       "    </tr>\n",
       "    <tr>\n",
       "      <th>1</th>\n",
       "      <td>3229</td>\n",
       "      <td>220</td>\n",
       "      <td>derailment</td>\n",
       "      <td>39</td>\n",
       "      <td>2196</td>\n",
       "      <td>1513</td>\n",
       "      <td>USA</td>\n",
       "      <td>67</td>\n",
       "      <td>3271</td>\n",
       "      <td>3206</td>\n",
       "      <td>11-Year-Old Boy Charged With Manslaughter of T...</td>\n",
       "      <td>10</td>\n",
       "    </tr>\n",
       "  </tbody>\n",
       "</table>\n",
       "</div>"
      ],
      "text/plain": [
       "       keyword                          location                        text  \\\n",
       "         count unique          top freq    count unique       top freq count   \n",
       "target                                                                         \n",
       "0         4323    218  body%20bags   40     2884   2142  New York   55  4342   \n",
       "1         3229    220   derailment   39     2196   1513       USA   67  3271   \n",
       "\n",
       "                                                                       \n",
       "       unique                                                top freq  \n",
       "target                                                                 \n",
       "0        4315  The Prophet (peace be upon him) said 'Save you...    4  \n",
       "1        3206  11-Year-Old Boy Charged With Manslaughter of T...   10  "
      ]
     },
     "execution_count": 6,
     "metadata": {},
     "output_type": "execute_result"
    }
   ],
   "source": [
    "train.groupby('target').describe()"
   ]
  },
  {
   "cell_type": "code",
   "execution_count": 7,
   "id": "7e746b64",
   "metadata": {},
   "outputs": [],
   "source": [
    "# Import visualisation libraries\n",
    "\n",
    "\n",
    "import matplotlib.pyplot as plt\n",
    "import seaborn as sns\n",
    "\n",
    "%matplotlib inline "
   ]
  },
  {
   "cell_type": "code",
   "execution_count": 8,
   "id": "e9f1c808",
   "metadata": {},
   "outputs": [
    {
     "data": {
      "text/plain": [
       "<Axes: xlabel='target', ylabel='count'>"
      ]
     },
     "execution_count": 8,
     "metadata": {},
     "output_type": "execute_result"
    },
    {
     "data": {
      "image/png": "[encoded data removed]",
      "text/plain": [
       "<Figure size 640x480 with 1 Axes>"
      ]
     },
     "metadata": {},
     "output_type": "display_data"
    }
   ],
   "source": [
    "# Countplot: 0 = no-emergency, 1 = emergency \n",
    "\n",
    "sns.countplot(data=train, x='target')"
   ]
  },
  {
   "cell_type": "code",
   "execution_count": 9,
   "id": "815e557d",
   "metadata": {},
   "outputs": [
    {
     "data": {
      "text/html": [
       "<div>\n",
       "<style scoped>\n",
       "    .dataframe tbody tr th:only-of-type {\n",
       "        vertical-align: middle;\n",
       "    }\n",
       "\n",
       "    .dataframe tbody tr th {\n",
       "        vertical-align: top;\n",
       "    }\n",
       "\n",
       "    .dataframe thead th {\n",
       "        text-align: right;\n",
       "    }\n",
       "</style>\n",
       "<table border=\"1\" class=\"dataframe\">\n",
       "  <thead>\n",
       "    <tr style=\"text-align: right;\">\n",
       "      <th></th>\n",
       "      <th>keyword</th>\n",
       "      <th>location</th>\n",
       "      <th>text</th>\n",
       "      <th>target</th>\n",
       "      <th>length</th>\n",
       "    </tr>\n",
       "  </thead>\n",
       "  <tbody>\n",
       "    <tr>\n",
       "      <th>0</th>\n",
       "      <td>NaN</td>\n",
       "      <td>NaN</td>\n",
       "      <td>Our Deeds are the Reason of this #earthquake M...</td>\n",
       "      <td>1</td>\n",
       "      <td>69</td>\n",
       "    </tr>\n",
       "    <tr>\n",
       "      <th>1</th>\n",
       "      <td>NaN</td>\n",
       "      <td>NaN</td>\n",
       "      <td>Forest fire near La Ronge Sask. Canada</td>\n",
       "      <td>1</td>\n",
       "      <td>38</td>\n",
       "    </tr>\n",
       "    <tr>\n",
       "      <th>2</th>\n",
       "      <td>NaN</td>\n",
       "      <td>NaN</td>\n",
       "      <td>All residents asked to 'shelter in place' are ...</td>\n",
       "      <td>1</td>\n",
       "      <td>133</td>\n",
       "    </tr>\n",
       "    <tr>\n",
       "      <th>3</th>\n",
       "      <td>NaN</td>\n",
       "      <td>NaN</td>\n",
       "      <td>13,000 people receive #wildfires evacuation or...</td>\n",
       "      <td>1</td>\n",
       "      <td>65</td>\n",
       "    </tr>\n",
       "    <tr>\n",
       "      <th>4</th>\n",
       "      <td>NaN</td>\n",
       "      <td>NaN</td>\n",
       "      <td>Just got sent this photo from Ruby #Alaska as ...</td>\n",
       "      <td>1</td>\n",
       "      <td>88</td>\n",
       "    </tr>\n",
       "  </tbody>\n",
       "</table>\n",
       "</div>"
      ],
      "text/plain": [
       "  keyword location                                               text  target  \\\n",
       "0     NaN      NaN  Our Deeds are the Reason of this #earthquake M...       1   \n",
       "1     NaN      NaN             Forest fire near La Ronge Sask. Canada       1   \n",
       "2     NaN      NaN  All residents asked to 'shelter in place' are ...       1   \n",
       "3     NaN      NaN  13,000 people receive #wildfires evacuation or...       1   \n",
       "4     NaN      NaN  Just got sent this photo from Ruby #Alaska as ...       1   \n",
       "\n",
       "   length  \n",
       "0      69  \n",
       "1      38  \n",
       "2     133  \n",
       "3      65  \n",
       "4      88  "
      ]
     },
     "execution_count": 9,
     "metadata": {},
     "output_type": "execute_result"
    }
   ],
   "source": [
    "# Length of the tweets column (total number of carachters )\n",
    "\n",
    "train['length'] = train['text'].apply(len)\n",
    "train.head()"
   ]
  },
  {
   "cell_type": "code",
   "execution_count": 10,
   "id": "2d7678d6",
   "metadata": {},
   "outputs": [],
   "source": [
    "# Fill missing values\n",
    "\n",
    "train['keyword'].fillna('unknown', inplace=True)\n",
    "train['location'].fillna('unknown', inplace=True)"
   ]
  },
  {
   "cell_type": "code",
   "execution_count": 11,
   "id": "a3d6660c",
   "metadata": {},
   "outputs": [
    {
     "data": {
      "text/html": [
       "<div>\n",
       "<style scoped>\n",
       "    .dataframe tbody tr th:only-of-type {\n",
       "        vertical-align: middle;\n",
       "    }\n",
       "\n",
       "    .dataframe tbody tr th {\n",
       "        vertical-align: top;\n",
       "    }\n",
       "\n",
       "    .dataframe thead th {\n",
       "        text-align: right;\n",
       "    }\n",
       "</style>\n",
       "<table border=\"1\" class=\"dataframe\">\n",
       "  <thead>\n",
       "    <tr style=\"text-align: right;\">\n",
       "      <th></th>\n",
       "      <th>keyword</th>\n",
       "      <th>location</th>\n",
       "      <th>text</th>\n",
       "      <th>target</th>\n",
       "      <th>length</th>\n",
       "    </tr>\n",
       "  </thead>\n",
       "  <tbody>\n",
       "    <tr>\n",
       "      <th>0</th>\n",
       "      <td>unknown</td>\n",
       "      <td>unknown</td>\n",
       "      <td>Our Deeds are the Reason of this #earthquake M...</td>\n",
       "      <td>1</td>\n",
       "      <td>69</td>\n",
       "    </tr>\n",
       "    <tr>\n",
       "      <th>1</th>\n",
       "      <td>unknown</td>\n",
       "      <td>unknown</td>\n",
       "      <td>Forest fire near La Ronge Sask. Canada</td>\n",
       "      <td>1</td>\n",
       "      <td>38</td>\n",
       "    </tr>\n",
       "    <tr>\n",
       "      <th>2</th>\n",
       "      <td>unknown</td>\n",
       "      <td>unknown</td>\n",
       "      <td>All residents asked to 'shelter in place' are ...</td>\n",
       "      <td>1</td>\n",
       "      <td>133</td>\n",
       "    </tr>\n",
       "    <tr>\n",
       "      <th>3</th>\n",
       "      <td>unknown</td>\n",
       "      <td>unknown</td>\n",
       "      <td>13,000 people receive #wildfires evacuation or...</td>\n",
       "      <td>1</td>\n",
       "      <td>65</td>\n",
       "    </tr>\n",
       "    <tr>\n",
       "      <th>4</th>\n",
       "      <td>unknown</td>\n",
       "      <td>unknown</td>\n",
       "      <td>Just got sent this photo from Ruby #Alaska as ...</td>\n",
       "      <td>1</td>\n",
       "      <td>88</td>\n",
       "    </tr>\n",
       "  </tbody>\n",
       "</table>\n",
       "</div>"
      ],
      "text/plain": [
       "   keyword location                                               text  \\\n",
       "0  unknown  unknown  Our Deeds are the Reason of this #earthquake M...   \n",
       "1  unknown  unknown             Forest fire near La Ronge Sask. Canada   \n",
       "2  unknown  unknown  All residents asked to 'shelter in place' are ...   \n",
       "3  unknown  unknown  13,000 people receive #wildfires evacuation or...   \n",
       "4  unknown  unknown  Just got sent this photo from Ruby #Alaska as ...   \n",
       "\n",
       "   target  length  \n",
       "0       1      69  \n",
       "1       1      38  \n",
       "2       1     133  \n",
       "3       1      65  \n",
       "4       1      88  "
      ]
     },
     "execution_count": 11,
     "metadata": {},
     "output_type": "execute_result"
    }
   ],
   "source": [
    "train.head()"
   ]
  },
  {
   "cell_type": "code",
   "execution_count": 12,
   "id": "b632f1be",
   "metadata": {},
   "outputs": [
    {
     "name": "stdout",
     "output_type": "stream",
     "text": [
      "There are in total 222 unique keywords in the dataframe:\n"
     ]
    },
    {
     "data": {
      "text/plain": [
       "array(['unknown', 'ablaze', 'accident', 'aftershock',\n",
       "       'airplane%20accident', 'ambulance', 'annihilated', 'annihilation',\n",
       "       'apocalypse', 'armageddon', 'army', 'arson', 'arsonist', 'attack',\n",
       "       'attacked', 'avalanche', 'battle', 'bioterror', 'bioterrorism',\n",
       "       'blaze', 'blazing', 'bleeding', 'blew%20up', 'blight', 'blizzard',\n",
       "       'blood', 'bloody', 'blown%20up', 'body%20bag', 'body%20bagging',\n",
       "       'body%20bags', 'bomb', 'bombed', 'bombing', 'bridge%20collapse',\n",
       "       'buildings%20burning', 'buildings%20on%20fire', 'burned',\n",
       "       'burning', 'burning%20buildings', 'bush%20fires', 'casualties',\n",
       "       'casualty', 'catastrophe', 'catastrophic', 'chemical%20emergency',\n",
       "       'cliff%20fall', 'collapse', 'collapsed', 'collide', 'collided',\n",
       "       'collision', 'crash', 'crashed', 'crush', 'crushed', 'curfew',\n",
       "       'cyclone', 'damage', 'danger', 'dead', 'death', 'deaths', 'debris',\n",
       "       'deluge', 'deluged', 'demolish', 'demolished', 'demolition',\n",
       "       'derail', 'derailed', 'derailment', 'desolate', 'desolation',\n",
       "       'destroy', 'destroyed', 'destruction', 'detonate', 'detonation',\n",
       "       'devastated', 'devastation', 'disaster', 'displaced', 'drought',\n",
       "       'drown', 'drowned', 'drowning', 'dust%20storm', 'earthquake',\n",
       "       'electrocute', 'electrocuted', 'emergency', 'emergency%20plan',\n",
       "       'emergency%20services', 'engulfed', 'epicentre', 'evacuate',\n",
       "       'evacuated', 'evacuation', 'explode', 'exploded', 'explosion',\n",
       "       'eyewitness', 'famine', 'fatal', 'fatalities', 'fatality', 'fear',\n",
       "       'fire', 'fire%20truck', 'first%20responders', 'flames',\n",
       "       'flattened', 'flood', 'flooding', 'floods', 'forest%20fire',\n",
       "       'forest%20fires', 'hail', 'hailstorm', 'harm', 'hazard',\n",
       "       'hazardous', 'heat%20wave', 'hellfire', 'hijack', 'hijacker',\n",
       "       'hijacking', 'hostage', 'hostages', 'hurricane', 'injured',\n",
       "       'injuries', 'injury', 'inundated', 'inundation', 'landslide',\n",
       "       'lava', 'lightning', 'loud%20bang', 'mass%20murder',\n",
       "       'mass%20murderer', 'massacre', 'mayhem', 'meltdown', 'military',\n",
       "       'mudslide', 'natural%20disaster', 'nuclear%20disaster',\n",
       "       'nuclear%20reactor', 'obliterate', 'obliterated', 'obliteration',\n",
       "       'oil%20spill', 'outbreak', 'pandemonium', 'panic', 'panicking',\n",
       "       'police', 'quarantine', 'quarantined', 'radiation%20emergency',\n",
       "       'rainstorm', 'razed', 'refugees', 'rescue', 'rescued', 'rescuers',\n",
       "       'riot', 'rioting', 'rubble', 'ruin', 'sandstorm', 'screamed',\n",
       "       'screaming', 'screams', 'seismic', 'sinkhole', 'sinking', 'siren',\n",
       "       'sirens', 'smoke', 'snowstorm', 'storm', 'stretcher',\n",
       "       'structural%20failure', 'suicide%20bomb', 'suicide%20bomber',\n",
       "       'suicide%20bombing', 'sunk', 'survive', 'survived', 'survivors',\n",
       "       'terrorism', 'terrorist', 'threat', 'thunder', 'thunderstorm',\n",
       "       'tornado', 'tragedy', 'trapped', 'trauma', 'traumatised',\n",
       "       'trouble', 'tsunami', 'twister', 'typhoon', 'upheaval',\n",
       "       'violent%20storm', 'volcano', 'war%20zone', 'weapon', 'weapons',\n",
       "       'whirlwind', 'wild%20fires', 'wildfire', 'windstorm', 'wounded',\n",
       "       'wounds', 'wreck', 'wreckage', 'wrecked'], dtype=object)"
      ]
     },
     "execution_count": 12,
     "metadata": {},
     "output_type": "execute_result"
    }
   ],
   "source": [
    "# All the keywords\n",
    "\n",
    "n = train['keyword'].unique().shape[0]\n",
    "\n",
    "print(f'There are in total {n} unique keywords in the dataframe:')\n",
    "\n",
    "train['keyword'].unique()"
   ]
  },
  {
   "cell_type": "code",
   "execution_count": 13,
   "id": "5b6bdc35",
   "metadata": {},
   "outputs": [
    {
     "name": "stdout",
     "output_type": "stream",
     "text": [
      "There are in total 3342 unique locations in the dataframe:\n"
     ]
    },
    {
     "data": {
      "text/plain": [
       "array(['unknown', 'Birmingham', 'Est. September 2012 - Bristol', ...,\n",
       "       'Vancouver, Canada', 'London ', 'Lincoln'], dtype=object)"
      ]
     },
     "execution_count": 13,
     "metadata": {},
     "output_type": "execute_result"
    }
   ],
   "source": [
    "# All the locations\n",
    "\n",
    "m = train['location'].unique().shape[0]\n",
    "\n",
    "print(f'There are in total {m} unique locations in the dataframe:')\n",
    "\n",
    "train['location'].unique()"
   ]
  },
  {
   "cell_type": "code",
   "execution_count": 14,
   "id": "da50018c",
   "metadata": {},
   "outputs": [
    {
     "data": {
      "text/plain": [
       "<Axes: xlabel='length', ylabel='Count'>"
      ]
     },
     "execution_count": 14,
     "metadata": {},
     "output_type": "execute_result"
    },
    {
     "data": {
      "image/png": "[encoded data removed]",
      "text/plain": [
       "<Figure size 640x480 with 1 Axes>"
      ]
     },
     "metadata": {},
     "output_type": "display_data"
    }
   ],
   "source": [
    "# Messages' length frequency by target\n",
    "\n",
    "sns.histplot(data = train, x = 'length', bins = 30, kde = True, hue='target')"
   ]
  },
  {
   "cell_type": "code",
   "execution_count": 15,
   "id": "78714cd7",
   "metadata": {},
   "outputs": [
    {
     "data": {
      "text/plain": [
       "<Axes: xlabel='target', ylabel='length'>"
      ]
     },
     "execution_count": 15,
     "metadata": {},
     "output_type": "execute_result"
    },
    {
     "data": {
      "image/png": "[encoded data removed]",
      "text/plain": [
       "<Figure size 640x480 with 1 Axes>"
      ]
     },
     "metadata": {},
     "output_type": "display_data"
    }
   ],
   "source": [
    "# Boxplot of target vs. length\n",
    "\n",
    "sns.boxplot(data= train, x='target', y ='length')"
   ]
  },
  {
   "cell_type": "code",
   "execution_count": 16,
   "id": "8afb8ae0",
   "metadata": {},
   "outputs": [
    {
     "data": {
      "text/plain": [
       "count    7613.000000\n",
       "mean      101.037436\n",
       "std        33.781325\n",
       "min         7.000000\n",
       "25%        78.000000\n",
       "50%       107.000000\n",
       "75%       133.000000\n",
       "max       157.000000\n",
       "Name: length, dtype: float64"
      ]
     },
     "execution_count": 16,
     "metadata": {},
     "output_type": "execute_result"
    }
   ],
   "source": [
    "train.length.describe()"
   ]
  },
  {
   "cell_type": "markdown",
   "id": "f7ed8a10",
   "metadata": {},
   "source": [
    "<h2 style='color:Red;'><p>&#128295; Data Preprocessing</p><a class=\"anchor\" id=\"third-bullet\"></a>"
   ]
  },
  {
   "cell_type": "markdown",
   "id": "8b33410d",
   "metadata": {},
   "source": [
    "<ol>\n",
    "  <li>Punctuation removal</li>\n",
    "  <li>Number removal</li>\n",
    "  <li>Stopwords removal</li>\n",
    "  <li>http adresses removal</li>\n",
    "  <li>Lemmatization</li>\n",
    "  <li>Vectorization</li>\n",
    "</ol>\n"
   ]
  },
  {
   "cell_type": "code",
   "execution_count": 17,
   "id": "62006a59",
   "metadata": {},
   "outputs": [],
   "source": [
    "# Import nlp modules \n",
    "\n",
    "import nltk \n",
    "import string\n",
    "import re\n",
    "from nltk.corpus import stopwords"
   ]
  },
  {
   "cell_type": "code",
   "execution_count": 18,
   "id": "e4e45090",
   "metadata": {},
   "outputs": [
    {
     "name": "stdout",
     "output_type": "stream",
     "text": [
      "abcdefghijklmnopqrstuvwxyzABCDEFGHIJKLMNOPQRSTUVWXYZ\n",
      "abcdefghijklmnopqrstuvwxyz\n",
      "ABCDEFGHIJKLMNOPQRSTUVWXYZ\n",
      "0123456789\n",
      "0123456789abcdefABCDEF\n",
      "!\"#$%&'()*+,-./:;<=>?@[\\]^_`{|}~\n"
     ]
    }
   ],
   "source": [
    "# String module constants\n",
    "\n",
    "print(string.ascii_letters)\n",
    "print(string.ascii_lowercase)\n",
    "print(string.ascii_uppercase)\n",
    "print(string.digits)\n",
    "print(string.hexdigits)\n",
    "#print(string.whitespace)  # ' \\t\\n\\r\\x0b\\x0c'\n",
    "print(string.punctuation)"
   ]
  },
  {
   "cell_type": "code",
   "execution_count": 19,
   "id": "bc08d875",
   "metadata": {},
   "outputs": [
    {
     "data": {
      "text/plain": [
       "['i', 'me', 'my', 'myself', 'we', 'our', 'ours', 'ourselves', 'you', \"you're\"]"
      ]
     },
     "execution_count": 19,
     "metadata": {},
     "output_type": "execute_result"
    }
   ],
   "source": [
    "stopwords.words('english')[0:10] # Show some stop words"
   ]
  },
  {
   "cell_type": "code",
   "execution_count": 20,
   "id": "396a0b91",
   "metadata": {},
   "outputs": [],
   "source": [
    "# Define clean_text function\n",
    "\n",
    "def clean_text(mess):\n",
    "    \"\"\"\n",
    "    Takes in a string of text, then performs the following:\n",
    "    \n",
    "    1. Remove http addresses\n",
    "    1. Lower\n",
    "    2. Remove all numbers\n",
    "    3. Remove all punctuation\n",
    "    4. Remove all stopwords\n",
    "    5. Returns a list of the cleaned text\n",
    "    \"\"\"\n",
    "    # Remove http addresses\n",
    "    \n",
    "    mess = re.sub(r'http\\S+', '', mess)\n",
    "    \n",
    "    # All lowercase\n",
    "    mess = mess.lower()\n",
    "    \n",
    "    # Check characters to see if they are in digits\n",
    "    nodigit = [char for char in mess if char not in string.digits]\n",
    "    \n",
    "    # Join the characters again to form the string.\n",
    "    nodigit = ''.join(nodigit)\n",
    "    \n",
    "    # Check characters to see if they are in punctuation\n",
    "    nopunc = [char for char in nodigit if char not in string.punctuation]\n",
    "\n",
    "    # Join the characters again to form the string.\n",
    "    nopunc = ''.join(nopunc)\n",
    "        \n",
    "    # Now just remove any stopwords\n",
    "    return [word for word in nopunc.split() if word not in stopwords.words('english')]\n",
    "    \n",
    "    \n",
    "    \n",
    "    "
   ]
  },
  {
   "cell_type": "code",
   "execution_count": 21,
   "id": "24e51a4a",
   "metadata": {},
   "outputs": [],
   "source": [
    "# Apply clean_text to text column of train\n",
    "\n",
    "train['text'] = train['text'].apply(clean_text)"
   ]
  },
  {
   "cell_type": "code",
   "execution_count": 22,
   "id": "1541f4c4",
   "metadata": {},
   "outputs": [
    {
     "data": {
      "text/html": [
       "<div>\n",
       "<style scoped>\n",
       "    .dataframe tbody tr th:only-of-type {\n",
       "        vertical-align: middle;\n",
       "    }\n",
       "\n",
       "    .dataframe tbody tr th {\n",
       "        vertical-align: top;\n",
       "    }\n",
       "\n",
       "    .dataframe thead th {\n",
       "        text-align: right;\n",
       "    }\n",
       "</style>\n",
       "<table border=\"1\" class=\"dataframe\">\n",
       "  <thead>\n",
       "    <tr style=\"text-align: right;\">\n",
       "      <th></th>\n",
       "      <th>keyword</th>\n",
       "      <th>location</th>\n",
       "      <th>text</th>\n",
       "      <th>target</th>\n",
       "      <th>length</th>\n",
       "    </tr>\n",
       "  </thead>\n",
       "  <tbody>\n",
       "    <tr>\n",
       "      <th>0</th>\n",
       "      <td>unknown</td>\n",
       "      <td>unknown</td>\n",
       "      <td>[deeds, reason, earthquake, may, allah, forgiv...</td>\n",
       "      <td>1</td>\n",
       "      <td>69</td>\n",
       "    </tr>\n",
       "    <tr>\n",
       "      <th>1</th>\n",
       "      <td>unknown</td>\n",
       "      <td>unknown</td>\n",
       "      <td>[forest, fire, near, la, ronge, sask, canada]</td>\n",
       "      <td>1</td>\n",
       "      <td>38</td>\n",
       "    </tr>\n",
       "    <tr>\n",
       "      <th>2</th>\n",
       "      <td>unknown</td>\n",
       "      <td>unknown</td>\n",
       "      <td>[residents, asked, shelter, place, notified, o...</td>\n",
       "      <td>1</td>\n",
       "      <td>133</td>\n",
       "    </tr>\n",
       "    <tr>\n",
       "      <th>3</th>\n",
       "      <td>unknown</td>\n",
       "      <td>unknown</td>\n",
       "      <td>[people, receive, wildfires, evacuation, order...</td>\n",
       "      <td>1</td>\n",
       "      <td>65</td>\n",
       "    </tr>\n",
       "    <tr>\n",
       "      <th>4</th>\n",
       "      <td>unknown</td>\n",
       "      <td>unknown</td>\n",
       "      <td>[got, sent, photo, ruby, alaska, smoke, wildfi...</td>\n",
       "      <td>1</td>\n",
       "      <td>88</td>\n",
       "    </tr>\n",
       "  </tbody>\n",
       "</table>\n",
       "</div>"
      ],
      "text/plain": [
       "   keyword location                                               text  \\\n",
       "0  unknown  unknown  [deeds, reason, earthquake, may, allah, forgiv...   \n",
       "1  unknown  unknown      [forest, fire, near, la, ronge, sask, canada]   \n",
       "2  unknown  unknown  [residents, asked, shelter, place, notified, o...   \n",
       "3  unknown  unknown  [people, receive, wildfires, evacuation, order...   \n",
       "4  unknown  unknown  [got, sent, photo, ruby, alaska, smoke, wildfi...   \n",
       "\n",
       "   target  length  \n",
       "0       1      69  \n",
       "1       1      38  \n",
       "2       1     133  \n",
       "3       1      65  \n",
       "4       1      88  "
      ]
     },
     "execution_count": 22,
     "metadata": {},
     "output_type": "execute_result"
    }
   ],
   "source": [
    "train.head()\n"
   ]
  },
  {
   "cell_type": "code",
   "execution_count": 23,
   "id": "601a59c2",
   "metadata": {},
   "outputs": [
    {
     "data": {
      "text/plain": [
       "['forest', 'fire', 'near', 'la', 'ronge', 'sask', 'canada']"
      ]
     },
     "execution_count": 23,
     "metadata": {},
     "output_type": "execute_result"
    }
   ],
   "source": [
    "train['text'][1]"
   ]
  },
  {
   "cell_type": "markdown",
   "id": "23f492c0",
   "metadata": {},
   "source": [
    "### Lemmatization"
   ]
  },
  {
   "cell_type": "code",
   "execution_count": 24,
   "id": "52404323",
   "metadata": {},
   "outputs": [
    {
     "name": "stderr",
     "output_type": "stream",
     "text": [
      "[nltk_data] Downloading package averaged_perceptron_tagger to\n",
      "[nltk_data]     C:\\Users\\giuli\\AppData\\Roaming\\nltk_data...\n",
      "[nltk_data]   Package averaged_perceptron_tagger is already up-to-\n",
      "[nltk_data]       date!\n"
     ]
    }
   ],
   "source": [
    "# WORDNET LEMMATIZER (with appropriate pos tags)\n",
    "\n",
    "from nltk.stem import WordNetLemmatizer\n",
    "nltk.download('averaged_perceptron_tagger')\n",
    "from nltk.corpus import wordnet\n"
   ]
  },
  {
   "cell_type": "code",
   "execution_count": 25,
   "id": "b06836cf",
   "metadata": {},
   "outputs": [],
   "source": [
    "lemmatizer = WordNetLemmatizer()"
   ]
  },
  {
   "cell_type": "code",
   "execution_count": 26,
   "id": "1a12c770",
   "metadata": {},
   "outputs": [],
   "source": [
    "# Define function to lemmatize each word with its POS tag\n",
    "\n",
    "# POS_TAGGER_FUNCTION \n",
    "def pos_tagger(nltk_tag):\n",
    "      if nltk_tag.startswith('J'):\n",
    "        return wordnet.ADJ\n",
    "      elif nltk_tag.startswith('V'):\n",
    "        return wordnet.VERB\n",
    "      elif nltk_tag.startswith('N'):\n",
    "        return wordnet.NOUN\n",
    "      elif nltk_tag.startswith('R'):\n",
    "        return wordnet.ADV\n",
    "      else:\n",
    "        return None"
   ]
  },
  {
   "cell_type": "code",
   "execution_count": 27,
   "id": "0f911370",
   "metadata": {},
   "outputs": [],
   "source": [
    "def lemm_text(list_of_words):\n",
    "    \"\"\"\n",
    "    TAG EACH WORD with this part of speech i.e. noun, verb, etc\n",
    "    \"\"\"\n",
    "    # find the POS tag for each token\n",
    "    pos_tagged = nltk.pos_tag(list_of_words) \n",
    "    \n",
    "    # Use pos_tagger function to make things simpler to understand.\n",
    "    wordnet_tagged = list(map(lambda x: (x[0], pos_tagger(x[1])), pos_tagged))\n",
    "    \n",
    "    lemmatized_sentence = []\n",
    "      \n",
    "    for word, tag in wordnet_tagged:\n",
    "            if tag is None:\n",
    "              # if there is no available tag, append the token as is\n",
    "              lemmatized_sentence.append(word)\n",
    "            else:\n",
    "             # else use the tag to lemmatize the token\n",
    "              lemmatized_sentence.append(lemmatizer.lemmatize(word, tag))\n",
    "        #lemmatized_sentence = \" \".join(lemmatized_sentence)\n",
    "\n",
    "    return lemmatized_sentence\n",
    "    "
   ]
  },
  {
   "cell_type": "code",
   "execution_count": 28,
   "id": "8aa781dd",
   "metadata": {},
   "outputs": [
    {
     "data": {
      "text/plain": [
       "['have', 'be', 'fly', 'run']"
      ]
     },
     "execution_count": 28,
     "metadata": {},
     "output_type": "execute_result"
    }
   ],
   "source": [
    " lemm_text(['has','been','flies','running'])"
   ]
  },
  {
   "cell_type": "code",
   "execution_count": 29,
   "id": "d5e5adef",
   "metadata": {},
   "outputs": [],
   "source": [
    "# Apply lemm_text to text column of train\n",
    "\n",
    "train['text'] = train['text'].apply(lemm_text)"
   ]
  },
  {
   "cell_type": "code",
   "execution_count": 30,
   "id": "7ab7df17",
   "metadata": {},
   "outputs": [],
   "source": [
    "# Apply clean_text and lemm_text also to keyword column of train\n",
    "\n",
    "train['keyword'] = train['keyword'].apply(clean_text)\n",
    "train['keyword'] = train['keyword'].apply(lemm_text)"
   ]
  },
  {
   "cell_type": "code",
   "execution_count": 31,
   "id": "208fc18c",
   "metadata": {},
   "outputs": [
    {
     "data": {
      "text/html": [
       "<div>\n",
       "<style scoped>\n",
       "    .dataframe tbody tr th:only-of-type {\n",
       "        vertical-align: middle;\n",
       "    }\n",
       "\n",
       "    .dataframe tbody tr th {\n",
       "        vertical-align: top;\n",
       "    }\n",
       "\n",
       "    .dataframe thead th {\n",
       "        text-align: right;\n",
       "    }\n",
       "</style>\n",
       "<table border=\"1\" class=\"dataframe\">\n",
       "  <thead>\n",
       "    <tr style=\"text-align: right;\">\n",
       "      <th></th>\n",
       "      <th>keyword</th>\n",
       "      <th>location</th>\n",
       "      <th>text</th>\n",
       "      <th>target</th>\n",
       "      <th>length</th>\n",
       "    </tr>\n",
       "  </thead>\n",
       "  <tbody>\n",
       "    <tr>\n",
       "      <th>0</th>\n",
       "      <td>[unknown]</td>\n",
       "      <td>unknown</td>\n",
       "      <td>[deed, reason, earthquake, may, allah, forgive...</td>\n",
       "      <td>1</td>\n",
       "      <td>69</td>\n",
       "    </tr>\n",
       "    <tr>\n",
       "      <th>1</th>\n",
       "      <td>[unknown]</td>\n",
       "      <td>unknown</td>\n",
       "      <td>[forest, fire, near, la, ronge, sask, canada]</td>\n",
       "      <td>1</td>\n",
       "      <td>38</td>\n",
       "    </tr>\n",
       "    <tr>\n",
       "      <th>2</th>\n",
       "      <td>[unknown]</td>\n",
       "      <td>unknown</td>\n",
       "      <td>[resident, ask, shelter, place, notify, office...</td>\n",
       "      <td>1</td>\n",
       "      <td>133</td>\n",
       "    </tr>\n",
       "    <tr>\n",
       "      <th>3</th>\n",
       "      <td>[unknown]</td>\n",
       "      <td>unknown</td>\n",
       "      <td>[people, receive, wildfire, evacuation, order,...</td>\n",
       "      <td>1</td>\n",
       "      <td>65</td>\n",
       "    </tr>\n",
       "    <tr>\n",
       "      <th>4</th>\n",
       "      <td>[unknown]</td>\n",
       "      <td>unknown</td>\n",
       "      <td>[get, sent, photo, ruby, alaska, smoke, wildfi...</td>\n",
       "      <td>1</td>\n",
       "      <td>88</td>\n",
       "    </tr>\n",
       "  </tbody>\n",
       "</table>\n",
       "</div>"
      ],
      "text/plain": [
       "     keyword location                                               text  \\\n",
       "0  [unknown]  unknown  [deed, reason, earthquake, may, allah, forgive...   \n",
       "1  [unknown]  unknown      [forest, fire, near, la, ronge, sask, canada]   \n",
       "2  [unknown]  unknown  [resident, ask, shelter, place, notify, office...   \n",
       "3  [unknown]  unknown  [people, receive, wildfire, evacuation, order,...   \n",
       "4  [unknown]  unknown  [get, sent, photo, ruby, alaska, smoke, wildfi...   \n",
       "\n",
       "   target  length  \n",
       "0       1      69  \n",
       "1       1      38  \n",
       "2       1     133  \n",
       "3       1      65  \n",
       "4       1      88  "
      ]
     },
     "execution_count": 31,
     "metadata": {},
     "output_type": "execute_result"
    }
   ],
   "source": [
    "train.head()"
   ]
  },
  {
   "cell_type": "code",
   "execution_count": 32,
   "id": "41b80abd",
   "metadata": {},
   "outputs": [],
   "source": [
    "# Define to_text function: it takes a list of strings and returns the string composed by its strings\n",
    "\n",
    "def to_text(list_of_words):\n",
    "    text = \" \".join(list_of_words)\n",
    "    \n",
    "    return text"
   ]
  },
  {
   "cell_type": "code",
   "execution_count": 33,
   "id": "07f08e1a",
   "metadata": {},
   "outputs": [
    {
     "data": {
      "text/plain": [
       "'My name is Giu'"
      ]
     },
     "execution_count": 33,
     "metadata": {},
     "output_type": "execute_result"
    }
   ],
   "source": [
    "# Example\n",
    "\n",
    "to_text(['My','name is','Giu'])"
   ]
  },
  {
   "cell_type": "code",
   "execution_count": 34,
   "id": "68c9a7ae",
   "metadata": {},
   "outputs": [],
   "source": [
    "# Apply to_text to keyword column\n",
    "\n",
    "train['keyword'] = train['keyword'].apply(to_text)"
   ]
  },
  {
   "cell_type": "code",
   "execution_count": 35,
   "id": "8986d650",
   "metadata": {},
   "outputs": [
    {
     "data": {
      "text/plain": [
       "array(['unknown', 'ablaze', 'accident', 'aftershock', 'airplaneaccident',\n",
       "       'ambulance', 'annihilate', 'annihilation', 'apocalypse',\n",
       "       'armageddon', 'army', 'arson', 'arsonist', 'attack', 'avalanche',\n",
       "       'battle', 'bioterror', 'bioterrorism', 'blaze', 'blazing',\n",
       "       'bleeding', 'blewup', 'blight', 'blizzard', 'blood', 'bloody',\n",
       "       'blownup', 'bodybag', 'bodybagging', 'bodybags', 'bomb', 'bombed',\n",
       "       'bombing', 'bridgecollapse', 'buildingsburning', 'buildingsonfire',\n",
       "       'burn', 'burning', 'burningbuildings', 'bushfires', 'casualty',\n",
       "       'catastrophe', 'catastrophic', 'chemicalemergency', 'clifffall',\n",
       "       'collapse', 'collide', 'collision', 'crash', 'crashed', 'crush',\n",
       "       'curfew', 'cyclone', 'damage', 'danger', 'dead', 'death', 'debris',\n",
       "       'deluge', 'demolish', 'demolition', 'derail', 'derailment',\n",
       "       'desolate', 'desolation', 'destroy', 'destroyed', 'destruction',\n",
       "       'detonate', 'detonation', 'devastate', 'devastation', 'disaster',\n",
       "       'displace', 'drought', 'drown', 'duststorm', 'earthquake',\n",
       "       'electrocute', 'emergency', 'emergencyplan', 'emergencyservices',\n",
       "       'engulfed', 'epicentre', 'evacuate', 'evacuation', 'explode',\n",
       "       'explosion', 'eyewitness', 'famine', 'fatal', 'fatality', 'fear',\n",
       "       'fire', 'firetruck', 'firstresponders', 'flame', 'flatten',\n",
       "       'flood', 'forestfire', 'forestfires', 'hail', 'hailstorm', 'harm',\n",
       "       'hazard', 'hazardous', 'heatwave', 'hellfire', 'hijack',\n",
       "       'hijacker', 'hostage', 'hurricane', 'injured', 'injury',\n",
       "       'inundate', 'inundation', 'landslide', 'lava', 'lightning',\n",
       "       'loudbang', 'massmurder', 'massmurderer', 'massacre', 'mayhem',\n",
       "       'meltdown', 'military', 'mudslide', 'naturaldisaster',\n",
       "       'nucleardisaster', 'nuclearreactor', 'obliterate', 'obliteration',\n",
       "       'oilspill', 'outbreak', 'pandemonium', 'panic', 'police',\n",
       "       'quarantine', 'radiationemergency', 'rainstorm', 'raze', 'refugee',\n",
       "       'rescue', 'rescuer', 'riot', 'rioting', 'rubble', 'ruin',\n",
       "       'sandstorm', 'scream', 'seismic', 'sinkhole', 'sinking', 'siren',\n",
       "       'smoke', 'snowstorm', 'storm', 'stretcher', 'structuralfailure',\n",
       "       'suicidebomb', 'suicidebomber', 'suicidebombing', 'sunk',\n",
       "       'survive', 'survivor', 'terrorism', 'terrorist', 'threat',\n",
       "       'thunder', 'thunderstorm', 'tornado', 'tragedy', 'trap', 'trauma',\n",
       "       'traumatise', 'trouble', 'tsunami', 'twister', 'typhoon',\n",
       "       'upheaval', 'violentstorm', 'volcano', 'warzone', 'weapon',\n",
       "       'whirlwind', 'wildfire', 'windstorm', 'wound', 'wreck', 'wreckage'],\n",
       "      dtype=object)"
      ]
     },
     "execution_count": 35,
     "metadata": {},
     "output_type": "execute_result"
    }
   ],
   "source": [
    "train['keyword'].unique()"
   ]
  },
  {
   "cell_type": "code",
   "execution_count": 36,
   "id": "cfde7a7c",
   "metadata": {},
   "outputs": [
    {
     "name": "stdout",
     "output_type": "stream",
     "text": [
      "There are 190 unique keywords after text preprocessing!\n"
     ]
    }
   ],
   "source": [
    "n_keywords = len(train['keyword'].unique())\n",
    "\n",
    "print(f'There are {n_keywords} unique keywords after text preprocessing!')"
   ]
  },
  {
   "cell_type": "code",
   "execution_count": 37,
   "id": "a1deb283",
   "metadata": {},
   "outputs": [],
   "source": [
    "# Apply to_text on text column\n",
    "\n",
    "train['text'] = train['text'].apply(to_text)"
   ]
  },
  {
   "cell_type": "code",
   "execution_count": 38,
   "id": "2e247179",
   "metadata": {},
   "outputs": [
    {
     "data": {
      "text/html": [
       "<div>\n",
       "<style scoped>\n",
       "    .dataframe tbody tr th:only-of-type {\n",
       "        vertical-align: middle;\n",
       "    }\n",
       "\n",
       "    .dataframe tbody tr th {\n",
       "        vertical-align: top;\n",
       "    }\n",
       "\n",
       "    .dataframe thead th {\n",
       "        text-align: right;\n",
       "    }\n",
       "</style>\n",
       "<table border=\"1\" class=\"dataframe\">\n",
       "  <thead>\n",
       "    <tr style=\"text-align: right;\">\n",
       "      <th></th>\n",
       "      <th>keyword</th>\n",
       "      <th>location</th>\n",
       "      <th>text</th>\n",
       "      <th>target</th>\n",
       "      <th>length</th>\n",
       "    </tr>\n",
       "  </thead>\n",
       "  <tbody>\n",
       "    <tr>\n",
       "      <th>0</th>\n",
       "      <td>unknown</td>\n",
       "      <td>unknown</td>\n",
       "      <td>deed reason earthquake may allah forgive us</td>\n",
       "      <td>1</td>\n",
       "      <td>69</td>\n",
       "    </tr>\n",
       "    <tr>\n",
       "      <th>1</th>\n",
       "      <td>unknown</td>\n",
       "      <td>unknown</td>\n",
       "      <td>forest fire near la ronge sask canada</td>\n",
       "      <td>1</td>\n",
       "      <td>38</td>\n",
       "    </tr>\n",
       "    <tr>\n",
       "      <th>2</th>\n",
       "      <td>unknown</td>\n",
       "      <td>unknown</td>\n",
       "      <td>resident ask shelter place notify officer evac...</td>\n",
       "      <td>1</td>\n",
       "      <td>133</td>\n",
       "    </tr>\n",
       "    <tr>\n",
       "      <th>3</th>\n",
       "      <td>unknown</td>\n",
       "      <td>unknown</td>\n",
       "      <td>people receive wildfire evacuation order calif...</td>\n",
       "      <td>1</td>\n",
       "      <td>65</td>\n",
       "    </tr>\n",
       "    <tr>\n",
       "      <th>4</th>\n",
       "      <td>unknown</td>\n",
       "      <td>unknown</td>\n",
       "      <td>get sent photo ruby alaska smoke wildfires pou...</td>\n",
       "      <td>1</td>\n",
       "      <td>88</td>\n",
       "    </tr>\n",
       "  </tbody>\n",
       "</table>\n",
       "</div>"
      ],
      "text/plain": [
       "   keyword location                                               text  \\\n",
       "0  unknown  unknown        deed reason earthquake may allah forgive us   \n",
       "1  unknown  unknown              forest fire near la ronge sask canada   \n",
       "2  unknown  unknown  resident ask shelter place notify officer evac...   \n",
       "3  unknown  unknown  people receive wildfire evacuation order calif...   \n",
       "4  unknown  unknown  get sent photo ruby alaska smoke wildfires pou...   \n",
       "\n",
       "   target  length  \n",
       "0       1      69  \n",
       "1       1      38  \n",
       "2       1     133  \n",
       "3       1      65  \n",
       "4       1      88  "
      ]
     },
     "execution_count": 38,
     "metadata": {},
     "output_type": "execute_result"
    }
   ],
   "source": [
    "train.head()"
   ]
  },
  {
   "cell_type": "markdown",
   "id": "4a202141",
   "metadata": {},
   "source": [
    "### Wordclouds"
   ]
  },
  {
   "cell_type": "code",
   "execution_count": 39,
   "id": "2e00f3bd",
   "metadata": {},
   "outputs": [],
   "source": [
    "from wordcloud import WordCloud"
   ]
  },
  {
   "cell_type": "code",
   "execution_count": 40,
   "id": "7c0ef225",
   "metadata": {},
   "outputs": [],
   "source": [
    "train_1 = train[train['target'] == 1]\n",
    "train_0 = train[train['target'] == 0]"
   ]
  },
  {
   "cell_type": "code",
   "execution_count": 41,
   "id": "14b113da",
   "metadata": {},
   "outputs": [
    {
     "data": {
      "image/png": "[encoded data removed]",
      "text/plain": [
       "<Figure size 1600x800 with 2 Axes>"
      ]
     },
     "metadata": {},
     "output_type": "display_data"
    }
   ],
   "source": [
    "def generate_and_display_wordcloud_text(data, title, ax):\n",
    "    wordcloud = WordCloud(width=1400, height=600, background_color='black').generate(''.join(text for text in data['text']))\n",
    "    \n",
    "    ax.imshow(wordcloud)\n",
    "    ax.set_title(f'Wordcloud of {title}', fontsize=16)\n",
    "    ax.axis('off')\n",
    "    \n",
    "fig, axs = plt.subplots(1, 2, figsize=(16, 8))\n",
    "\n",
    "generate_and_display_wordcloud_text(train_1, 'Emergency Train Tweets', axs[0])\n",
    "generate_and_display_wordcloud_text(train_0, 'Non-Emergency Train Tweets', axs[1])\n",
    "\n",
    "plt.show()"
   ]
  },
  {
   "cell_type": "code",
   "execution_count": 42,
   "id": "b1b65790",
   "metadata": {},
   "outputs": [],
   "source": [
    "#def generate_and_display_wordcloud_keywords(data, title, ax):\n",
    "#    wordcloud = WordCloud(width=1400, height=600, background_color='black').generate(''.join(text for text in data['keyword']))\n",
    "    \n",
    "#    ax.imshow(wordcloud)\n",
    "#    ax.set_title(f'Wordcloud of {title}', fontsize=16)\n",
    "#    ax.axis('off')\n",
    "    \n",
    "#fig, axs = plt.subplots(1, 2, figsize=(16, 8))\n",
    "\n",
    "#generate_and_display_wordcloud_keywords(train_1, 'Emergency Train Keywords', axs[0])\n",
    "#generate_and_display_wordcloud_keywords(train_0, 'Non-Emergency Train Keywords', axs[1])\n",
    "\n",
    "#plt.show()"
   ]
  },
  {
   "cell_type": "code",
   "execution_count": 43,
   "id": "0d6f6b25",
   "metadata": {},
   "outputs": [],
   "source": [
    "#wordcloud = WordCloud(width=1400, height=600, background_color='black').generate(''.join(text for text in train['text']))\n",
    "    \n",
    "# Display the generated image:\n",
    "#plt.imshow(wordcloud_1, interpolation='bilinear')\n",
    "#plt.axis(\"off\")\n",
    "\n",
    "#plt.show()\n",
    "    "
   ]
  },
  {
   "cell_type": "markdown",
   "id": "f570a119",
   "metadata": {},
   "source": [
    "<h2 style='color:Red;'>&#129302; ML - Multinomial Naive Bayes Classifier <a class=\"anchor\" id=\"fourth-bullet\"></a>"
   ]
  },
  {
   "cell_type": "code",
   "execution_count": 44,
   "id": "8b7b01cc",
   "metadata": {},
   "outputs": [],
   "source": [
    "from sklearn.model_selection import train_test_split\n",
    "from sklearn.naive_bayes import MultinomialNB\n",
    "from sklearn.metrics import confusion_matrix,classification_report\n",
    "from sklearn.feature_extraction.text import  TfidfTransformer,CountVectorizer \n",
    "from sklearn.pipeline import Pipeline"
   ]
  },
  {
   "cell_type": "code",
   "execution_count": 45,
   "id": "e5fa7d12",
   "metadata": {},
   "outputs": [],
   "source": [
    "pipeline = Pipeline([\n",
    "    ('bow', CountVectorizer()),  # strings to token integer counts - Vectorization - Sparse Matrix\n",
    "    ('tfidf', TfidfTransformer()),  # integer counts to weighted TF-IDF scores\n",
    "    ('classifier', MultinomialNB()),  # train on TF-IDF vectors w/ Naive Bayes classifier\n",
    "])"
   ]
  },
  {
   "cell_type": "code",
   "execution_count": 46,
   "id": "704fcdb7",
   "metadata": {},
   "outputs": [],
   "source": [
    "X = train['text']\n",
    "y = train['target']\n",
    "X_train, X_test, y_train, y_test = train_test_split(X, y,test_size=0.3,random_state=101)"
   ]
  },
  {
   "cell_type": "code",
   "execution_count": 47,
   "id": "c84ca09d",
   "metadata": {},
   "outputs": [
    {
     "data": {
      "text/html": [
       "<style>#sk-container-id-1 {color: black;}#sk-container-id-1 pre{padding: 0;}#sk-container-id-1 div.sk-toggleable {background-color: white;}#sk-container-id-1 label.sk-toggleable__label {cursor: pointer;display: block;width: 100%;margin-bottom: 0;padding: 0.3em;box-sizing: border-box;text-align: center;}#sk-container-id-1 label.sk-toggleable__label-arrow:before {content: \"▸\";float: left;margin-right: 0.25em;color: #696969;}#sk-container-id-1 label.sk-toggleable__label-arrow:hover:before {color: black;}#sk-container-id-1 div.sk-estimator:hover label.sk-toggleable__label-arrow:before {color: black;}#sk-container-id-1 div.sk-toggleable__content {max-height: 0;max-width: 0;overflow: hidden;text-align: left;background-color: #f0f8ff;}#sk-container-id-1 div.sk-toggleable__content pre {margin: 0.2em;color: black;border-radius: 0.25em;background-color: #f0f8ff;}#sk-container-id-1 input.sk-toggleable__control:checked~div.sk-toggleable__content {max-height: 200px;max-width: 100%;overflow: auto;}#sk-container-id-1 input.sk-toggleable__control:checked~label.sk-toggleable__label-arrow:before {content: \"▾\";}#sk-container-id-1 div.sk-estimator input.sk-toggleable__control:checked~label.sk-toggleable__label {background-color: #d4ebff;}#sk-container-id-1 div.sk-label input.sk-toggleable__control:checked~label.sk-toggleable__label {background-color: #d4ebff;}#sk-container-id-1 input.sk-hidden--visually {border: 0;clip: rect(1px 1px 1px 1px);clip: rect(1px, 1px, 1px, 1px);height: 1px;margin: -1px;overflow: hidden;padding: 0;position: absolute;width: 1px;}#sk-container-id-1 div.sk-estimator {font-family: monospace;background-color: #f0f8ff;border: 1px dotted black;border-radius: 0.25em;box-sizing: border-box;margin-bottom: 0.5em;}#sk-container-id-1 div.sk-estimator:hover {background-color: #d4ebff;}#sk-container-id-1 div.sk-parallel-item::after {content: \"\";width: 100%;border-bottom: 1px solid gray;flex-grow: 1;}#sk-container-id-1 div.sk-label:hover label.sk-toggleable__label {background-color: #d4ebff;}#sk-container-id-1 div.sk-serial::before {content: \"\";position: absolute;border-left: 1px solid gray;box-sizing: border-box;top: 0;bottom: 0;left: 50%;z-index: 0;}#sk-container-id-1 div.sk-serial {display: flex;flex-direction: column;align-items: center;background-color: white;padding-right: 0.2em;padding-left: 0.2em;position: relative;}#sk-container-id-1 div.sk-item {position: relative;z-index: 1;}#sk-container-id-1 div.sk-parallel {display: flex;align-items: stretch;justify-content: center;background-color: white;position: relative;}#sk-container-id-1 div.sk-item::before, #sk-container-id-1 div.sk-parallel-item::before {content: \"\";position: absolute;border-left: 1px solid gray;box-sizing: border-box;top: 0;bottom: 0;left: 50%;z-index: -1;}#sk-container-id-1 div.sk-parallel-item {display: flex;flex-direction: column;z-index: 1;position: relative;background-color: white;}#sk-container-id-1 div.sk-parallel-item:first-child::after {align-self: flex-end;width: 50%;}#sk-container-id-1 div.sk-parallel-item:last-child::after {align-self: flex-start;width: 50%;}#sk-container-id-1 div.sk-parallel-item:only-child::after {width: 0;}#sk-container-id-1 div.sk-dashed-wrapped {border: 1px dashed gray;margin: 0 0.4em 0.5em 0.4em;box-sizing: border-box;padding-bottom: 0.4em;background-color: white;}#sk-container-id-1 div.sk-label label {font-family: monospace;font-weight: bold;display: inline-block;line-height: 1.2em;}#sk-container-id-1 div.sk-label-container {text-align: center;}#sk-container-id-1 div.sk-container {/* jupyter's `normalize.less` sets `[hidden] { display: none; }` but bootstrap.min.css set `[hidden] { display: none !important; }` so we also need the `!important` here to be able to override the default hidden behavior on the sphinx rendered scikit-learn.org. See: https://github.com/scikit-learn/scikit-learn/issues/21755 */display: inline-block !important;position: relative;}#sk-container-id-1 div.sk-text-repr-fallback {display: none;}</style><div id=\"sk-container-id-1\" class=\"sk-top-container\"><div class=\"sk-text-repr-fallback\"><pre>Pipeline(steps=[(&#x27;bow&#x27;, CountVectorizer()), (&#x27;tfidf&#x27;, TfidfTransformer()),\n",
       "                (&#x27;classifier&#x27;, MultinomialNB())])</pre><b>In a Jupyter environment, please rerun this cell to show the HTML representation or trust the notebook. <br />On GitHub, the HTML representation is unable to render, please try loading this page with nbviewer.org.</b></div><div class=\"sk-container\" hidden><div class=\"sk-item sk-dashed-wrapped\"><div class=\"sk-label-container\"><div class=\"sk-label sk-toggleable\"><input class=\"sk-toggleable__control sk-hidden--visually\" id=\"sk-estimator-id-1\" type=\"checkbox\" ><label for=\"sk-estimator-id-1\" class=\"sk-toggleable__label sk-toggleable__label-arrow\">Pipeline</label><div class=\"sk-toggleable__content\"><pre>Pipeline(steps=[(&#x27;bow&#x27;, CountVectorizer()), (&#x27;tfidf&#x27;, TfidfTransformer()),\n",
       "                (&#x27;classifier&#x27;, MultinomialNB())])</pre></div></div></div><div class=\"sk-serial\"><div class=\"sk-item\"><div class=\"sk-estimator sk-toggleable\"><input class=\"sk-toggleable__control sk-hidden--visually\" id=\"sk-estimator-id-2\" type=\"checkbox\" ><label for=\"sk-estimator-id-2\" class=\"sk-toggleable__label sk-toggleable__label-arrow\">CountVectorizer</label><div class=\"sk-toggleable__content\"><pre>CountVectorizer()</pre></div></div></div><div class=\"sk-item\"><div class=\"sk-estimator sk-toggleable\"><input class=\"sk-toggleable__control sk-hidden--visually\" id=\"sk-estimator-id-3\" type=\"checkbox\" ><label for=\"sk-estimator-id-3\" class=\"sk-toggleable__label sk-toggleable__label-arrow\">TfidfTransformer</label><div class=\"sk-toggleable__content\"><pre>TfidfTransformer()</pre></div></div></div><div class=\"sk-item\"><div class=\"sk-estimator sk-toggleable\"><input class=\"sk-toggleable__control sk-hidden--visually\" id=\"sk-estimator-id-4\" type=\"checkbox\" ><label for=\"sk-estimator-id-4\" class=\"sk-toggleable__label sk-toggleable__label-arrow\">MultinomialNB</label><div class=\"sk-toggleable__content\"><pre>MultinomialNB()</pre></div></div></div></div></div></div></div>"
      ],
      "text/plain": [
       "Pipeline(steps=[('bow', CountVectorizer()), ('tfidf', TfidfTransformer()),\n",
       "                ('classifier', MultinomialNB())])"
      ]
     },
     "execution_count": 47,
     "metadata": {},
     "output_type": "execute_result"
    }
   ],
   "source": [
    "# May take some time\n",
    "pipeline.fit(X_train,y_train)"
   ]
  },
  {
   "cell_type": "code",
   "execution_count": 48,
   "id": "a9259ea8",
   "metadata": {},
   "outputs": [],
   "source": [
    "predictions = pipeline.predict(X_test)"
   ]
  },
  {
   "cell_type": "code",
   "execution_count": 49,
   "id": "d9509cf7",
   "metadata": {},
   "outputs": [
    {
     "name": "stdout",
     "output_type": "stream",
     "text": [
      "[[1170  160]\n",
      " [ 319  635]]\n",
      "              precision    recall  f1-score   support\n",
      "\n",
      "           0       0.79      0.88      0.83      1330\n",
      "           1       0.80      0.67      0.73       954\n",
      "\n",
      "    accuracy                           0.79      2284\n",
      "   macro avg       0.79      0.77      0.78      2284\n",
      "weighted avg       0.79      0.79      0.79      2284\n",
      "\n"
     ]
    }
   ],
   "source": [
    "print(confusion_matrix(y_test,predictions))\n",
    "print(classification_report(y_test,predictions))"
   ]
  },
  {
   "cell_type": "code",
   "execution_count": 50,
   "id": "630ca4c4",
   "metadata": {},
   "outputs": [],
   "source": [
    "tp = 1170\n",
    "fn = 319\n",
    "fp = 160\n",
    "f1_score = tp / (tp+((fn+fp)/2))"
   ]
  },
  {
   "cell_type": "code",
   "execution_count": 51,
   "id": "87e69de1",
   "metadata": {},
   "outputs": [
    {
     "name": "stdout",
     "output_type": "stream",
     "text": [
      "The f1-score with Multinomial NB is: 83%\n"
     ]
    }
   ],
   "source": [
    "print(f'The f1-score with Multinomial NB is: {int(round(f1_score,2)*100)}%')"
   ]
  },
  {
   "cell_type": "markdown",
   "id": "dd7e1168",
   "metadata": {},
   "source": [
    "<h2 style='color:Red;'>&#129497; Reformat the test data and make predictions with Multinomial NB <a class=\"anchor\" id=\"fifth-bullet\"></a>\n",
    "\n"
   ]
  },
  {
   "cell_type": "code",
   "execution_count": 52,
   "id": "714571d2",
   "metadata": {},
   "outputs": [
    {
     "data": {
      "text/html": [
       "<div>\n",
       "<style scoped>\n",
       "    .dataframe tbody tr th:only-of-type {\n",
       "        vertical-align: middle;\n",
       "    }\n",
       "\n",
       "    .dataframe tbody tr th {\n",
       "        vertical-align: top;\n",
       "    }\n",
       "\n",
       "    .dataframe thead th {\n",
       "        text-align: right;\n",
       "    }\n",
       "</style>\n",
       "<table border=\"1\" class=\"dataframe\">\n",
       "  <thead>\n",
       "    <tr style=\"text-align: right;\">\n",
       "      <th></th>\n",
       "      <th>id</th>\n",
       "      <th>keyword</th>\n",
       "      <th>location</th>\n",
       "      <th>text</th>\n",
       "    </tr>\n",
       "  </thead>\n",
       "  <tbody>\n",
       "    <tr>\n",
       "      <th>0</th>\n",
       "      <td>0</td>\n",
       "      <td>NaN</td>\n",
       "      <td>NaN</td>\n",
       "      <td>Just happened a terrible car crash</td>\n",
       "    </tr>\n",
       "    <tr>\n",
       "      <th>1</th>\n",
       "      <td>2</td>\n",
       "      <td>NaN</td>\n",
       "      <td>NaN</td>\n",
       "      <td>Heard about #earthquake is different cities, s...</td>\n",
       "    </tr>\n",
       "    <tr>\n",
       "      <th>2</th>\n",
       "      <td>3</td>\n",
       "      <td>NaN</td>\n",
       "      <td>NaN</td>\n",
       "      <td>there is a forest fire at spot pond, geese are...</td>\n",
       "    </tr>\n",
       "    <tr>\n",
       "      <th>3</th>\n",
       "      <td>9</td>\n",
       "      <td>NaN</td>\n",
       "      <td>NaN</td>\n",
       "      <td>Apocalypse lighting. #Spokane #wildfires</td>\n",
       "    </tr>\n",
       "    <tr>\n",
       "      <th>4</th>\n",
       "      <td>11</td>\n",
       "      <td>NaN</td>\n",
       "      <td>NaN</td>\n",
       "      <td>Typhoon Soudelor kills 28 in China and Taiwan</td>\n",
       "    </tr>\n",
       "  </tbody>\n",
       "</table>\n",
       "</div>"
      ],
      "text/plain": [
       "   id keyword location                                               text\n",
       "0   0     NaN      NaN                 Just happened a terrible car crash\n",
       "1   2     NaN      NaN  Heard about #earthquake is different cities, s...\n",
       "2   3     NaN      NaN  there is a forest fire at spot pond, geese are...\n",
       "3   9     NaN      NaN           Apocalypse lighting. #Spokane #wildfires\n",
       "4  11     NaN      NaN      Typhoon Soudelor kills 28 in China and Taiwan"
      ]
     },
     "execution_count": 52,
     "metadata": {},
     "output_type": "execute_result"
    }
   ],
   "source": [
    "test = pd.read_csv('test.csv')\n",
    "test.head()"
   ]
  },
  {
   "cell_type": "code",
   "execution_count": 53,
   "id": "09c61976",
   "metadata": {},
   "outputs": [
    {
     "data": {
      "text/plain": [
       "(3263, 4)"
      ]
     },
     "execution_count": 53,
     "metadata": {},
     "output_type": "execute_result"
    }
   ],
   "source": [
    "test.shape"
   ]
  },
  {
   "cell_type": "code",
   "execution_count": 54,
   "id": "be0dd317",
   "metadata": {},
   "outputs": [],
   "source": [
    "# Fill missing values\n",
    "\n",
    "test['keyword'].fillna('unknown', inplace=True)\n",
    "test['location'].fillna('unknown', inplace=True)"
   ]
  },
  {
   "cell_type": "code",
   "execution_count": 55,
   "id": "17659dd3",
   "metadata": {},
   "outputs": [],
   "source": [
    "# Apply preprocessing functions to keyword column of test\n",
    "\n",
    "test['keyword'] = test['keyword'].apply(clean_text)\n",
    "test['keyword'] = test['keyword'].apply(lemm_text)\n",
    "test['keyword'] = test['keyword'].apply(to_text)"
   ]
  },
  {
   "cell_type": "code",
   "execution_count": 56,
   "id": "e8242c57",
   "metadata": {},
   "outputs": [],
   "source": [
    "# Apply preprocessing functions to text column of test\n",
    "\n",
    "test['text'] = test['text'].apply(clean_text)\n",
    "test['text'] = test['text'].apply(lemm_text)\n",
    "test['text'] = test['text'].apply(to_text)"
   ]
  },
  {
   "cell_type": "code",
   "execution_count": 57,
   "id": "34ea5c00",
   "metadata": {},
   "outputs": [
    {
     "data": {
      "text/plain": [
       "array(['unknown', 'ablaze', 'accident', 'aftershock', 'airplaneaccident',\n",
       "       'ambulance', 'annihilate', 'annihilation', 'apocalypse',\n",
       "       'armageddon', 'army', 'arson', 'arsonist', 'attack', 'avalanche',\n",
       "       'battle', 'bioterror', 'bioterrorism', 'blaze', 'blazing',\n",
       "       'bleeding', 'blewup', 'blight', 'blizzard', 'blood', 'bloody',\n",
       "       'blownup', 'bodybag', 'bodybagging', 'bodybags', 'bomb', 'bombed',\n",
       "       'bombing', 'bridgecollapse', 'buildingsburning', 'buildingsonfire',\n",
       "       'burn', 'burning', 'burningbuildings', 'bushfires', 'casualty',\n",
       "       'catastrophe', 'catastrophic', 'chemicalemergency', 'clifffall',\n",
       "       'collapse', 'collide', 'collision', 'crash', 'crashed', 'crush',\n",
       "       'curfew', 'cyclone', 'damage', 'danger', 'dead', 'death', 'debris',\n",
       "       'deluge', 'demolish', 'demolition', 'derail', 'derailment',\n",
       "       'desolate', 'desolation', 'destroy', 'destroyed', 'destruction',\n",
       "       'detonate', 'detonation', 'devastate', 'devastation', 'disaster',\n",
       "       'displace', 'drought', 'drown', 'duststorm', 'earthquake',\n",
       "       'electrocute', 'emergency', 'emergencyplan', 'emergencyservices',\n",
       "       'engulfed', 'epicentre', 'evacuate', 'evacuation', 'explode',\n",
       "       'explosion', 'eyewitness', 'famine', 'fatal', 'fatality', 'fear',\n",
       "       'fire', 'firetruck', 'firstresponders', 'flame', 'flatten',\n",
       "       'flood', 'forestfire', 'forestfires', 'hail', 'hailstorm', 'harm',\n",
       "       'hazard', 'hazardous', 'heatwave', 'hellfire', 'hijack',\n",
       "       'hijacker', 'hostage', 'hurricane', 'injured', 'injury',\n",
       "       'inundate', 'inundation', 'landslide', 'lava', 'lightning',\n",
       "       'loudbang', 'massmurder', 'massmurderer', 'massacre', 'mayhem',\n",
       "       'meltdown', 'military', 'mudslide', 'naturaldisaster',\n",
       "       'nucleardisaster', 'nuclearreactor', 'obliterate', 'obliteration',\n",
       "       'oilspill', 'outbreak', 'pandemonium', 'panic', 'police',\n",
       "       'quarantine', 'radiationemergency', 'rainstorm', 'raze', 'refugee',\n",
       "       'rescue', 'rescuer', 'riot', 'rioting', 'rubble', 'ruin',\n",
       "       'sandstorm', 'scream', 'seismic', 'sinkhole', 'sinking', 'siren',\n",
       "       'smoke', 'snowstorm', 'storm', 'stretcher', 'structuralfailure',\n",
       "       'suicidebomb', 'suicidebomber', 'suicidebombing', 'sunk',\n",
       "       'survive', 'survivor', 'terrorism', 'terrorist', 'threat',\n",
       "       'thunder', 'thunderstorm', 'tornado', 'tragedy', 'trap', 'trauma',\n",
       "       'traumatise', 'trouble', 'tsunami', 'twister', 'typhoon',\n",
       "       'upheaval', 'violentstorm', 'volcano', 'warzone', 'weapon',\n",
       "       'whirlwind', 'wildfire', 'windstorm', 'wound', 'wreck', 'wreckage'],\n",
       "      dtype=object)"
      ]
     },
     "execution_count": 57,
     "metadata": {},
     "output_type": "execute_result"
    }
   ],
   "source": [
    "test['keyword'].unique()"
   ]
  },
  {
   "cell_type": "code",
   "execution_count": 58,
   "id": "fec74b7c",
   "metadata": {},
   "outputs": [
    {
     "data": {
      "text/plain": [
       "array(['happen terrible car crash',\n",
       "       'heard earthquake different city stay safe everyone',\n",
       "       'forest fire spot pond geese flee across street cannot save', ...,\n",
       "       'green line derailment chicago',\n",
       "       'meg issue hazardous weather outlook hwo',\n",
       "       'cityofcalgary activate municipal emergency plan yycstorm'],\n",
       "      dtype=object)"
      ]
     },
     "execution_count": 58,
     "metadata": {},
     "output_type": "execute_result"
    }
   ],
   "source": [
    "test['text'].unique()"
   ]
  },
  {
   "cell_type": "code",
   "execution_count": 59,
   "id": "70ac74de",
   "metadata": {},
   "outputs": [
    {
     "data": {
      "text/plain": [
       "array([1, 1, 1, ..., 1, 1, 1], dtype=int64)"
      ]
     },
     "execution_count": 59,
     "metadata": {},
     "output_type": "execute_result"
    }
   ],
   "source": [
    "y_pred = pipeline.predict(test['text'])\n",
    "\n",
    "y_pred"
   ]
  },
  {
   "cell_type": "code",
   "execution_count": 60,
   "id": "07b67b6a",
   "metadata": {},
   "outputs": [
    {
     "data": {
      "text/html": [
       "<div>\n",
       "<style scoped>\n",
       "    .dataframe tbody tr th:only-of-type {\n",
       "        vertical-align: middle;\n",
       "    }\n",
       "\n",
       "    .dataframe tbody tr th {\n",
       "        vertical-align: top;\n",
       "    }\n",
       "\n",
       "    .dataframe thead th {\n",
       "        text-align: right;\n",
       "    }\n",
       "</style>\n",
       "<table border=\"1\" class=\"dataframe\">\n",
       "  <thead>\n",
       "    <tr style=\"text-align: right;\">\n",
       "      <th></th>\n",
       "      <th>target</th>\n",
       "    </tr>\n",
       "  </thead>\n",
       "  <tbody>\n",
       "    <tr>\n",
       "      <th>0</th>\n",
       "      <td>1</td>\n",
       "    </tr>\n",
       "    <tr>\n",
       "      <th>1</th>\n",
       "      <td>1</td>\n",
       "    </tr>\n",
       "    <tr>\n",
       "      <th>2</th>\n",
       "      <td>1</td>\n",
       "    </tr>\n",
       "    <tr>\n",
       "      <th>3</th>\n",
       "      <td>1</td>\n",
       "    </tr>\n",
       "    <tr>\n",
       "      <th>4</th>\n",
       "      <td>1</td>\n",
       "    </tr>\n",
       "  </tbody>\n",
       "</table>\n",
       "</div>"
      ],
      "text/plain": [
       "   target\n",
       "0       1\n",
       "1       1\n",
       "2       1\n",
       "3       1\n",
       "4       1"
      ]
     },
     "execution_count": 60,
     "metadata": {},
     "output_type": "execute_result"
    }
   ],
   "source": [
    "# Dataframe of my predictions \n",
    "\n",
    "my_predictions = pd.DataFrame(y_pred)\n",
    "my_predictions.rename(columns = {0:'target'}, inplace = True) \n",
    "my_predictions.head()"
   ]
  },
  {
   "cell_type": "code",
   "execution_count": 61,
   "id": "dad10545",
   "metadata": {},
   "outputs": [
    {
     "data": {
      "text/html": [
       "<div>\n",
       "<style scoped>\n",
       "    .dataframe tbody tr th:only-of-type {\n",
       "        vertical-align: middle;\n",
       "    }\n",
       "\n",
       "    .dataframe tbody tr th {\n",
       "        vertical-align: top;\n",
       "    }\n",
       "\n",
       "    .dataframe thead th {\n",
       "        text-align: right;\n",
       "    }\n",
       "</style>\n",
       "<table border=\"1\" class=\"dataframe\">\n",
       "  <thead>\n",
       "    <tr style=\"text-align: right;\">\n",
       "      <th></th>\n",
       "      <th>id</th>\n",
       "      <th>target</th>\n",
       "    </tr>\n",
       "  </thead>\n",
       "  <tbody>\n",
       "    <tr>\n",
       "      <th>0</th>\n",
       "      <td>0</td>\n",
       "      <td>1</td>\n",
       "    </tr>\n",
       "    <tr>\n",
       "      <th>1</th>\n",
       "      <td>2</td>\n",
       "      <td>1</td>\n",
       "    </tr>\n",
       "    <tr>\n",
       "      <th>2</th>\n",
       "      <td>3</td>\n",
       "      <td>1</td>\n",
       "    </tr>\n",
       "    <tr>\n",
       "      <th>3</th>\n",
       "      <td>9</td>\n",
       "      <td>1</td>\n",
       "    </tr>\n",
       "    <tr>\n",
       "      <th>4</th>\n",
       "      <td>11</td>\n",
       "      <td>1</td>\n",
       "    </tr>\n",
       "  </tbody>\n",
       "</table>\n",
       "</div>"
      ],
      "text/plain": [
       "   id  target\n",
       "0   0       1\n",
       "1   2       1\n",
       "2   3       1\n",
       "3   9       1\n",
       "4  11       1"
      ]
     },
     "execution_count": 61,
     "metadata": {},
     "output_type": "execute_result"
    }
   ],
   "source": [
    "# Submission with Multinomial NB\n",
    "\n",
    "submissions_mnb = pd.concat([test['id'], my_predictions['target']], axis=1)\n",
    "submissions_mnb.head()"
   ]
  },
  {
   "cell_type": "code",
   "execution_count": 62,
   "id": "5f4bb908",
   "metadata": {},
   "outputs": [
    {
     "name": "stdout",
     "output_type": "stream",
     "text": [
      "Your submission was successfully saved!\n"
     ]
    }
   ],
   "source": [
    "submissions_mnb.to_csv('submissions_mnb.csv', index=False)\n",
    "print(\"Your submission was successfully saved!\")"
   ]
  },
  {
   "cell_type": "markdown",
   "id": "cad1fe24",
   "metadata": {},
   "source": [
    "<h2 style='color:Red;'>&#129302; ML - Logistic Regression Classifier <a class=\"anchor\" id=\"sixth-bullet\"></a>\n",
    "\n",
    "\n"
   ]
  },
  {
   "cell_type": "code",
   "execution_count": 63,
   "id": "36c3bdf7",
   "metadata": {},
   "outputs": [],
   "source": [
    "from sklearn.linear_model import LogisticRegression\n",
    "from sklearn.feature_extraction.text import TfidfVectorizer"
   ]
  },
  {
   "cell_type": "code",
   "execution_count": 64,
   "id": "2bad9572",
   "metadata": {},
   "outputs": [],
   "source": [
    "X = train['text']\n",
    "y = train['target']\n",
    "X_train, X_test, y_train, y_test = train_test_split(X, y,test_size=0.3,random_state=101)"
   ]
  },
  {
   "cell_type": "code",
   "execution_count": 65,
   "id": "5d9a17d1",
   "metadata": {},
   "outputs": [],
   "source": [
    "# TF-IDF vectorization\n",
    "vectorizer = TfidfVectorizer(max_features=1000)  # You can adjust max_features as needed\n",
    "X_train_tfidf = vectorizer.fit_transform(X_train)\n",
    "X_test_tfidf = vectorizer.transform(X_test)\n",
    "\n",
    "# Build a logistic regression model\n",
    "lr_classifier = LogisticRegression()\n",
    "lr_classifier.fit(X_train_tfidf, y_train)\n",
    "\n",
    "# Make predictions\n",
    "lr_predictions = lr_classifier.predict(X_test_tfidf)"
   ]
  },
  {
   "cell_type": "code",
   "execution_count": 66,
   "id": "7df1e016",
   "metadata": {},
   "outputs": [
    {
     "name": "stdout",
     "output_type": "stream",
     "text": [
      "[[1152  178]\n",
      " [ 310  644]]\n",
      "              precision    recall  f1-score   support\n",
      "\n",
      "           0       0.79      0.87      0.83      1330\n",
      "           1       0.78      0.68      0.73       954\n",
      "\n",
      "    accuracy                           0.79      2284\n",
      "   macro avg       0.79      0.77      0.78      2284\n",
      "weighted avg       0.79      0.79      0.78      2284\n",
      "\n"
     ]
    }
   ],
   "source": [
    "print(confusion_matrix(y_test,lr_predictions))\n",
    "print(classification_report(y_test,lr_predictions))"
   ]
  },
  {
   "cell_type": "code",
   "execution_count": 67,
   "id": "85d58b8b",
   "metadata": {},
   "outputs": [],
   "source": [
    "tp = 1152\n",
    "fn = 310\n",
    "fp = 178\n",
    "f1_score = tp / (tp+((fn+fp)/2))"
   ]
  },
  {
   "cell_type": "code",
   "execution_count": 68,
   "id": "d1d325e7",
   "metadata": {},
   "outputs": [
    {
     "name": "stdout",
     "output_type": "stream",
     "text": [
      "The f1-score with Logistic Regression is: 83%\n"
     ]
    }
   ],
   "source": [
    "print(f'The f1-score with Logistic Regression is: {int(round(f1_score,2)*100)}%')"
   ]
  },
  {
   "cell_type": "markdown",
   "id": "4d0c2234",
   "metadata": {},
   "source": [
    "<h2 style='color:Red;'>&#129497; Reformat the test data and make predictions with Logistic Regression  <a class=\"anchor\" id=\"seventh-bullet\"></a>\n",
    "\n",
    "\n"
   ]
  },
  {
   "cell_type": "code",
   "execution_count": 69,
   "id": "0e493802",
   "metadata": {},
   "outputs": [],
   "source": [
    "test = pd.read_csv('test.csv')"
   ]
  },
  {
   "cell_type": "code",
   "execution_count": 70,
   "id": "5adef37a",
   "metadata": {},
   "outputs": [
    {
     "data": {
      "text/html": [
       "<div>\n",
       "<style scoped>\n",
       "    .dataframe tbody tr th:only-of-type {\n",
       "        vertical-align: middle;\n",
       "    }\n",
       "\n",
       "    .dataframe tbody tr th {\n",
       "        vertical-align: top;\n",
       "    }\n",
       "\n",
       "    .dataframe thead th {\n",
       "        text-align: right;\n",
       "    }\n",
       "</style>\n",
       "<table border=\"1\" class=\"dataframe\">\n",
       "  <thead>\n",
       "    <tr style=\"text-align: right;\">\n",
       "      <th></th>\n",
       "      <th>id</th>\n",
       "      <th>keyword</th>\n",
       "      <th>location</th>\n",
       "      <th>text</th>\n",
       "    </tr>\n",
       "  </thead>\n",
       "  <tbody>\n",
       "    <tr>\n",
       "      <th>0</th>\n",
       "      <td>0</td>\n",
       "      <td>NaN</td>\n",
       "      <td>NaN</td>\n",
       "      <td>Just happened a terrible car crash</td>\n",
       "    </tr>\n",
       "    <tr>\n",
       "      <th>1</th>\n",
       "      <td>2</td>\n",
       "      <td>NaN</td>\n",
       "      <td>NaN</td>\n",
       "      <td>Heard about #earthquake is different cities, s...</td>\n",
       "    </tr>\n",
       "    <tr>\n",
       "      <th>2</th>\n",
       "      <td>3</td>\n",
       "      <td>NaN</td>\n",
       "      <td>NaN</td>\n",
       "      <td>there is a forest fire at spot pond, geese are...</td>\n",
       "    </tr>\n",
       "    <tr>\n",
       "      <th>3</th>\n",
       "      <td>9</td>\n",
       "      <td>NaN</td>\n",
       "      <td>NaN</td>\n",
       "      <td>Apocalypse lighting. #Spokane #wildfires</td>\n",
       "    </tr>\n",
       "    <tr>\n",
       "      <th>4</th>\n",
       "      <td>11</td>\n",
       "      <td>NaN</td>\n",
       "      <td>NaN</td>\n",
       "      <td>Typhoon Soudelor kills 28 in China and Taiwan</td>\n",
       "    </tr>\n",
       "  </tbody>\n",
       "</table>\n",
       "</div>"
      ],
      "text/plain": [
       "   id keyword location                                               text\n",
       "0   0     NaN      NaN                 Just happened a terrible car crash\n",
       "1   2     NaN      NaN  Heard about #earthquake is different cities, s...\n",
       "2   3     NaN      NaN  there is a forest fire at spot pond, geese are...\n",
       "3   9     NaN      NaN           Apocalypse lighting. #Spokane #wildfires\n",
       "4  11     NaN      NaN      Typhoon Soudelor kills 28 in China and Taiwan"
      ]
     },
     "execution_count": 70,
     "metadata": {},
     "output_type": "execute_result"
    }
   ],
   "source": [
    "test.head()"
   ]
  },
  {
   "cell_type": "code",
   "execution_count": 71,
   "id": "468b65a6",
   "metadata": {},
   "outputs": [
    {
     "data": {
      "text/plain": [
       "(3263, 4)"
      ]
     },
     "execution_count": 71,
     "metadata": {},
     "output_type": "execute_result"
    }
   ],
   "source": [
    "test.shape"
   ]
  },
  {
   "cell_type": "code",
   "execution_count": 72,
   "id": "7992e743",
   "metadata": {},
   "outputs": [],
   "source": [
    "test['keyword'].fillna('unknown', inplace=True)\n",
    "test['location'].fillna('unknown', inplace=True)"
   ]
  },
  {
   "cell_type": "code",
   "execution_count": 73,
   "id": "16650180",
   "metadata": {},
   "outputs": [
    {
     "data": {
      "text/plain": [
       "id          0\n",
       "keyword     0\n",
       "location    0\n",
       "text        0\n",
       "dtype: int64"
      ]
     },
     "execution_count": 73,
     "metadata": {},
     "output_type": "execute_result"
    }
   ],
   "source": [
    "test.isnull().sum()"
   ]
  },
  {
   "cell_type": "code",
   "execution_count": 74,
   "id": "13c6b32b",
   "metadata": {},
   "outputs": [],
   "source": [
    "test['text'] = test['text'].apply(clean_text)\n",
    "test['text'] = test['text'].apply(lemm_text)\n",
    "test['text'] = test['text'].apply(to_text)"
   ]
  },
  {
   "cell_type": "code",
   "execution_count": 75,
   "id": "b1ae3426",
   "metadata": {},
   "outputs": [
    {
     "data": {
      "text/html": [
       "<div>\n",
       "<style scoped>\n",
       "    .dataframe tbody tr th:only-of-type {\n",
       "        vertical-align: middle;\n",
       "    }\n",
       "\n",
       "    .dataframe tbody tr th {\n",
       "        vertical-align: top;\n",
       "    }\n",
       "\n",
       "    .dataframe thead th {\n",
       "        text-align: right;\n",
       "    }\n",
       "</style>\n",
       "<table border=\"1\" class=\"dataframe\">\n",
       "  <thead>\n",
       "    <tr style=\"text-align: right;\">\n",
       "      <th></th>\n",
       "      <th>id</th>\n",
       "      <th>keyword</th>\n",
       "      <th>location</th>\n",
       "      <th>text</th>\n",
       "    </tr>\n",
       "  </thead>\n",
       "  <tbody>\n",
       "    <tr>\n",
       "      <th>0</th>\n",
       "      <td>0</td>\n",
       "      <td>unknown</td>\n",
       "      <td>unknown</td>\n",
       "      <td>happen terrible car crash</td>\n",
       "    </tr>\n",
       "    <tr>\n",
       "      <th>1</th>\n",
       "      <td>2</td>\n",
       "      <td>unknown</td>\n",
       "      <td>unknown</td>\n",
       "      <td>heard earthquake different city stay safe ever...</td>\n",
       "    </tr>\n",
       "    <tr>\n",
       "      <th>2</th>\n",
       "      <td>3</td>\n",
       "      <td>unknown</td>\n",
       "      <td>unknown</td>\n",
       "      <td>forest fire spot pond geese flee across street...</td>\n",
       "    </tr>\n",
       "    <tr>\n",
       "      <th>3</th>\n",
       "      <td>9</td>\n",
       "      <td>unknown</td>\n",
       "      <td>unknown</td>\n",
       "      <td>apocalypse light spokane wildfire</td>\n",
       "    </tr>\n",
       "    <tr>\n",
       "      <th>4</th>\n",
       "      <td>11</td>\n",
       "      <td>unknown</td>\n",
       "      <td>unknown</td>\n",
       "      <td>typhoon soudelor kill china taiwan</td>\n",
       "    </tr>\n",
       "  </tbody>\n",
       "</table>\n",
       "</div>"
      ],
      "text/plain": [
       "   id  keyword location                                               text\n",
       "0   0  unknown  unknown                          happen terrible car crash\n",
       "1   2  unknown  unknown  heard earthquake different city stay safe ever...\n",
       "2   3  unknown  unknown  forest fire spot pond geese flee across street...\n",
       "3   9  unknown  unknown                  apocalypse light spokane wildfire\n",
       "4  11  unknown  unknown                 typhoon soudelor kill china taiwan"
      ]
     },
     "execution_count": 75,
     "metadata": {},
     "output_type": "execute_result"
    }
   ],
   "source": [
    "test.head()"
   ]
  },
  {
   "cell_type": "code",
   "execution_count": 76,
   "id": "b182b7ba",
   "metadata": {},
   "outputs": [],
   "source": [
    "test_tfidf = vectorizer.transform(test['text'])"
   ]
  },
  {
   "cell_type": "code",
   "execution_count": 77,
   "id": "a896eb6e",
   "metadata": {},
   "outputs": [
    {
     "data": {
      "text/plain": [
       "array([1, 1, 1, ..., 1, 1, 1], dtype=int64)"
      ]
     },
     "execution_count": 77,
     "metadata": {},
     "output_type": "execute_result"
    }
   ],
   "source": [
    "#ML - LR approach\n",
    "\n",
    "y_pred = lr_classifier.predict(test_tfidf)\n",
    "\n",
    "y_pred\n"
   ]
  },
  {
   "cell_type": "code",
   "execution_count": 78,
   "id": "99a032fc",
   "metadata": {},
   "outputs": [],
   "source": [
    "my_predictions = pd.DataFrame(y_pred)\n",
    "my_predictions.rename(columns = {0:'target'}, inplace = True) "
   ]
  },
  {
   "cell_type": "code",
   "execution_count": 79,
   "id": "1c2387e5",
   "metadata": {},
   "outputs": [],
   "source": [
    "submissions_lr = pd.concat([test['id'], my_predictions['target']], axis=1)"
   ]
  },
  {
   "cell_type": "code",
   "execution_count": 80,
   "id": "ac574d2a",
   "metadata": {},
   "outputs": [
    {
     "data": {
      "text/html": [
       "<div>\n",
       "<style scoped>\n",
       "    .dataframe tbody tr th:only-of-type {\n",
       "        vertical-align: middle;\n",
       "    }\n",
       "\n",
       "    .dataframe tbody tr th {\n",
       "        vertical-align: top;\n",
       "    }\n",
       "\n",
       "    .dataframe thead th {\n",
       "        text-align: right;\n",
       "    }\n",
       "</style>\n",
       "<table border=\"1\" class=\"dataframe\">\n",
       "  <thead>\n",
       "    <tr style=\"text-align: right;\">\n",
       "      <th></th>\n",
       "      <th>id</th>\n",
       "      <th>target</th>\n",
       "    </tr>\n",
       "  </thead>\n",
       "  <tbody>\n",
       "    <tr>\n",
       "      <th>0</th>\n",
       "      <td>0</td>\n",
       "      <td>1</td>\n",
       "    </tr>\n",
       "    <tr>\n",
       "      <th>1</th>\n",
       "      <td>2</td>\n",
       "      <td>1</td>\n",
       "    </tr>\n",
       "    <tr>\n",
       "      <th>2</th>\n",
       "      <td>3</td>\n",
       "      <td>1</td>\n",
       "    </tr>\n",
       "    <tr>\n",
       "      <th>3</th>\n",
       "      <td>9</td>\n",
       "      <td>1</td>\n",
       "    </tr>\n",
       "    <tr>\n",
       "      <th>4</th>\n",
       "      <td>11</td>\n",
       "      <td>1</td>\n",
       "    </tr>\n",
       "  </tbody>\n",
       "</table>\n",
       "</div>"
      ],
      "text/plain": [
       "   id  target\n",
       "0   0       1\n",
       "1   2       1\n",
       "2   3       1\n",
       "3   9       1\n",
       "4  11       1"
      ]
     },
     "execution_count": 80,
     "metadata": {},
     "output_type": "execute_result"
    }
   ],
   "source": [
    "submissions_lr.head()"
   ]
  },
  {
   "cell_type": "code",
   "execution_count": 81,
   "id": "35045754",
   "metadata": {},
   "outputs": [
    {
     "name": "stdout",
     "output_type": "stream",
     "text": [
      "Your submission was successfully saved!\n"
     ]
    }
   ],
   "source": [
    "submissions_lr.to_csv('submissions_lr.csv', index=False)\n",
    "print(\"Your submission was successfully saved!\")"
   ]
  },
  {
   "cell_type": "markdown",
   "id": "4467e38c",
   "metadata": {},
   "source": [
    "### ML - Deep Learning"
   ]
  },
  {
   "cell_type": "code",
   "execution_count": 82,
   "id": "f7b8c338",
   "metadata": {},
   "outputs": [],
   "source": [
    "#import tensorflow as tf\n",
    "#from tensorflow.keras.models import Sequential\n",
    "#from tensorflow.keras.layers import Dense,Dropout,Activation"
   ]
  },
  {
   "cell_type": "code",
   "execution_count": 83,
   "id": "e384da9d",
   "metadata": {},
   "outputs": [],
   "source": [
    "#from transformers import AutoTokenizer,TFBertModel"
   ]
  },
  {
   "cell_type": "code",
   "execution_count": 84,
   "id": "0d4da1eb",
   "metadata": {},
   "outputs": [],
   "source": [
    "#%%capture\n",
    "#tokenizer = AutoTokenizer.from_pretrained('bert-large-uncased')\n",
    "#bert = TFBertModel.from_pretrained('bert-large-uncased')"
   ]
  },
  {
   "cell_type": "code",
   "execution_count": 85,
   "id": "71e383aa",
   "metadata": {},
   "outputs": [],
   "source": [
    "#print(\"max len of tweets\",max([len(x.split()) for x in train['text']]))"
   ]
  },
  {
   "cell_type": "code",
   "execution_count": 86,
   "id": "3ee5c257",
   "metadata": {},
   "outputs": [],
   "source": [
    "#x_train = tokenizer(\n",
    "#   text=train['text'].tolist(),\n",
    "#    add_special_tokens=True,\n",
    "#    max_length=23,\n",
    "#    truncation=True,\n",
    "#    padding=True, \n",
    "#    return_tensors='tf',\n",
    "#    return_token_type_ids = False,\n",
    "#    return_attention_mask = True,\n",
    "#    verbose = True)"
   ]
  },
  {
   "cell_type": "code",
   "execution_count": 87,
   "id": "50bb415b",
   "metadata": {},
   "outputs": [],
   "source": [
    "#from tensorflow.keras.layers import Input\n",
    "#from tensorflow.keras import layers, Model"
   ]
  },
  {
   "cell_type": "code",
   "execution_count": 88,
   "id": "62c4ed7b",
   "metadata": {},
   "outputs": [],
   "source": [
    "# Build the model \n",
    "\n",
    "#input_ids = Input(shape=(23,), dtype=tf.int32, name = 'input_ids')\n",
    "#attention_mask = Input(shape=(23,), dtype=tf.int32, name = 'attention_mask')"
   ]
  },
  {
   "cell_type": "code",
   "execution_count": 89,
   "id": "ee8b0c7a",
   "metadata": {},
   "outputs": [],
   "source": [
    "#embeddings = bert(input_ids = input_ids, attention_mask = attention_mask)[0]"
   ]
  },
  {
   "cell_type": "code",
   "execution_count": 90,
   "id": "f82d637f",
   "metadata": {},
   "outputs": [],
   "source": [
    "#layer = layers.Dropout(0.2)(embeddings)\n",
    "#layer = layers.Dense(1024, activation = 'relu')(layer)\n",
    "#layer = layers.Dense(32, activation = 'relu')(layer)\n",
    "#layer = layers.Flatten()(layer)\n",
    "#y = layers.Dense(1, activation = 'sigmoid')(layer)"
   ]
  },
  {
   "cell_type": "code",
   "execution_count": 91,
   "id": "48d39f86",
   "metadata": {},
   "outputs": [],
   "source": [
    "#model = Model(inputs = [input_ids, attention_mask], outputs = y)"
   ]
  },
  {
   "cell_type": "code",
   "execution_count": 92,
   "id": "f08b4f82",
   "metadata": {},
   "outputs": [],
   "source": [
    "#model.summary()"
   ]
  },
  {
   "cell_type": "code",
   "execution_count": 93,
   "id": "fef3bee9",
   "metadata": {},
   "outputs": [],
   "source": [
    "#from tensorflow.keras.losses import BinaryCrossentropy\n",
    "#from tensorflow.keras.metrics import BinaryAccuracy\n",
    "#from tensorflow.keras.optimizers import Adam"
   ]
  },
  {
   "cell_type": "code",
   "execution_count": 94,
   "id": "97efd1b4",
   "metadata": {},
   "outputs": [],
   "source": [
    "#optimizer = Adam(\n",
    "#    learning_rate=6e-06, \n",
    "#    epsilon=1e-08,\n",
    "#    weight_decay=0.01,\n",
    "#    clipnorm=1.0)"
   ]
  },
  {
   "cell_type": "code",
   "execution_count": 95,
   "id": "778cd027",
   "metadata": {},
   "outputs": [],
   "source": [
    "#from tensorflow.keras.losses import BinaryCrossentropy\n",
    "#from tensorflow.keras.metrics import BinaryAccuracy"
   ]
  },
  {
   "cell_type": "code",
   "execution_count": 96,
   "id": "3f7ff2b7",
   "metadata": {},
   "outputs": [],
   "source": [
    "#loss = BinaryCrossentropy(from_logits = True)\n",
    "#metric = BinaryAccuracy('accuracy')\n",
    "\n",
    "#model.compile(\n",
    "#    optimizer = optimizer,\n",
    "#    loss = loss, \n",
    "#    metrics = metric)"
   ]
  },
  {
   "cell_type": "code",
   "execution_count": 97,
   "id": "56b8b126",
   "metadata": {},
   "outputs": [],
   "source": [
    "# Train the model\n",
    "\n",
    "#y_train = train['target'].values"
   ]
  },
  {
   "cell_type": "code",
   "execution_count": 98,
   "id": "9e981091",
   "metadata": {},
   "outputs": [],
   "source": [
    "#history = model.fit(\n",
    "#    x = {'input_ids': x_train['input_ids'],\n",
    "#         'attention_mask': x_train['attention_mask']\n",
    "#        },\n",
    "#    y = y_train,\n",
    "#    epochs = 10,\n",
    "#    batch_size = 32)"
   ]
  },
  {
   "cell_type": "code",
   "execution_count": null,
   "id": "35ba5d77",
   "metadata": {},
   "outputs": [],
   "source": []
  }
 ],
 "metadata": {
  "kernelspec": {
   "display_name": "Python 3 (ipykernel)",
   "language": "python",
   "name": "python3"
  },
  "language_info": {
   "codemirror_mode": {
    "name": "ipython",
    "version": 3
   },
   "file_extension": ".py",
   "mimetype": "text/x-python",
   "name": "python",
   "nbconvert_exporter": "python",
   "pygments_lexer": "ipython3",
   "version": "3.11.4"
  }
 },
 "nbformat": 4,
 "nbformat_minor": 5
}
